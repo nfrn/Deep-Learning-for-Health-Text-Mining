{
 "cells": [
  {
   "cell_type": "markdown",
   "metadata": {},
   "source": [
    "# Named Entity Recognition"
   ]
  },
  {
   "cell_type": "markdown",
   "metadata": {},
   "source": [
    "# Dataset AnEM:\n",
    "### Description:\n",
    "\"Anatomical entities such as kidney, muscle and blood are central to much of biomedical scientific discourse, and the detection of mentions of anatomical entities is thus necessary for the automatic analysis of the structure of domain texts.\" \"The corpus consists of 500 documents (over 90,000 words) selected randomly from citation abstracts and full-text papers with the aim of making the corpus representative of the entire available biomedical scientific literature. The corpus annotation covers mentions of both healthy and pathological anatomical entities and contains over 3,000 annotated mentions.\" http://www.nactem.ac.uk/anatomy/ Paper: http://www.nactem.ac.uk/anatomy/docs/ohta2012opendomain.pdf"
   ]
  },
  {
   "cell_type": "markdown",
   "metadata": {},
   "source": [
    "### File Visualization:\n"
   ]
  },
  {
   "cell_type": "code",
   "execution_count": 47,
   "metadata": {
    "scrolled": false
   },
   "outputs": [
    {
     "data": {
      "text/html": [
       "<style  type=\"text/css\" >\n",
       "</style>  \n",
       "<table id=\"T_9b19f49c_9ac2_11e9_b7c8_b05adad52aa1\" style='display:inline'><caption>Entities Distribution</caption> \n",
       "<thead>    <tr> \n",
       "        <th class=\"blank level0\" ></th> \n",
       "        <th class=\"col_heading level0 col0\" >Tokens</th> \n",
       "        <th class=\"col_heading level0 col1\" >Entity</th> \n",
       "    </tr></thead> \n",
       "<tbody>    <tr> \n",
       "        <th id=\"T_9b19f49c_9ac2_11e9_b7c8_b05adad52aa1level0_row0\" class=\"row_heading level0 row0\" >0</th> \n",
       "        <td id=\"T_9b19f49c_9ac2_11e9_b7c8_b05adad52aa1row0_col0\" class=\"data row0 col0\" >IL-2</td> \n",
       "        <td id=\"T_9b19f49c_9ac2_11e9_b7c8_b05adad52aa1row0_col1\" class=\"data row0 col1\" >B-DNA</td> \n",
       "    </tr>    <tr> \n",
       "        <th id=\"T_9b19f49c_9ac2_11e9_b7c8_b05adad52aa1level0_row1\" class=\"row_heading level0 row1\" >1</th> \n",
       "        <td id=\"T_9b19f49c_9ac2_11e9_b7c8_b05adad52aa1row1_col0\" class=\"data row1 col0\" >gene</td> \n",
       "        <td id=\"T_9b19f49c_9ac2_11e9_b7c8_b05adad52aa1row1_col1\" class=\"data row1 col1\" >I-DNA</td> \n",
       "    </tr>    <tr> \n",
       "        <th id=\"T_9b19f49c_9ac2_11e9_b7c8_b05adad52aa1level0_row2\" class=\"row_heading level0 row2\" >2</th> \n",
       "        <td id=\"T_9b19f49c_9ac2_11e9_b7c8_b05adad52aa1row2_col0\" class=\"data row2 col0\" >expression</td> \n",
       "        <td id=\"T_9b19f49c_9ac2_11e9_b7c8_b05adad52aa1row2_col1\" class=\"data row2 col1\" >O</td> \n",
       "    </tr>    <tr> \n",
       "        <th id=\"T_9b19f49c_9ac2_11e9_b7c8_b05adad52aa1level0_row3\" class=\"row_heading level0 row3\" >3</th> \n",
       "        <td id=\"T_9b19f49c_9ac2_11e9_b7c8_b05adad52aa1row3_col0\" class=\"data row3 col0\" >and</td> \n",
       "        <td id=\"T_9b19f49c_9ac2_11e9_b7c8_b05adad52aa1row3_col1\" class=\"data row3 col1\" >O</td> \n",
       "    </tr>    <tr> \n",
       "        <th id=\"T_9b19f49c_9ac2_11e9_b7c8_b05adad52aa1level0_row4\" class=\"row_heading level0 row4\" >4</th> \n",
       "        <td id=\"T_9b19f49c_9ac2_11e9_b7c8_b05adad52aa1row4_col0\" class=\"data row4 col0\" >NF-kappa</td> \n",
       "        <td id=\"T_9b19f49c_9ac2_11e9_b7c8_b05adad52aa1row4_col1\" class=\"data row4 col1\" >B-protein</td> \n",
       "    </tr>    <tr> \n",
       "        <th id=\"T_9b19f49c_9ac2_11e9_b7c8_b05adad52aa1level0_row5\" class=\"row_heading level0 row5\" >5</th> \n",
       "        <td id=\"T_9b19f49c_9ac2_11e9_b7c8_b05adad52aa1row5_col0\" class=\"data row5 col0\" >B</td> \n",
       "        <td id=\"T_9b19f49c_9ac2_11e9_b7c8_b05adad52aa1row5_col1\" class=\"data row5 col1\" >I-protein</td> \n",
       "    </tr>    <tr> \n",
       "        <th id=\"T_9b19f49c_9ac2_11e9_b7c8_b05adad52aa1level0_row6\" class=\"row_heading level0 row6\" >6</th> \n",
       "        <td id=\"T_9b19f49c_9ac2_11e9_b7c8_b05adad52aa1row6_col0\" class=\"data row6 col0\" >activation</td> \n",
       "        <td id=\"T_9b19f49c_9ac2_11e9_b7c8_b05adad52aa1row6_col1\" class=\"data row6 col1\" >O</td> \n",
       "    </tr>    <tr> \n",
       "        <th id=\"T_9b19f49c_9ac2_11e9_b7c8_b05adad52aa1level0_row7\" class=\"row_heading level0 row7\" >7</th> \n",
       "        <td id=\"T_9b19f49c_9ac2_11e9_b7c8_b05adad52aa1row7_col0\" class=\"data row7 col0\" >through</td> \n",
       "        <td id=\"T_9b19f49c_9ac2_11e9_b7c8_b05adad52aa1row7_col1\" class=\"data row7 col1\" >O</td> \n",
       "    </tr>    <tr> \n",
       "        <th id=\"T_9b19f49c_9ac2_11e9_b7c8_b05adad52aa1level0_row8\" class=\"row_heading level0 row8\" >8</th> \n",
       "        <td id=\"T_9b19f49c_9ac2_11e9_b7c8_b05adad52aa1row8_col0\" class=\"data row8 col0\" >CD28</td> \n",
       "        <td id=\"T_9b19f49c_9ac2_11e9_b7c8_b05adad52aa1row8_col1\" class=\"data row8 col1\" >B-protein</td> \n",
       "    </tr>    <tr> \n",
       "        <th id=\"T_9b19f49c_9ac2_11e9_b7c8_b05adad52aa1level0_row9\" class=\"row_heading level0 row9\" >9</th> \n",
       "        <td id=\"T_9b19f49c_9ac2_11e9_b7c8_b05adad52aa1row9_col0\" class=\"data row9 col0\" >requires</td> \n",
       "        <td id=\"T_9b19f49c_9ac2_11e9_b7c8_b05adad52aa1row9_col1\" class=\"data row9 col1\" >O</td> \n",
       "    </tr>    <tr> \n",
       "        <th id=\"T_9b19f49c_9ac2_11e9_b7c8_b05adad52aa1level0_row10\" class=\"row_heading level0 row10\" >10</th> \n",
       "        <td id=\"T_9b19f49c_9ac2_11e9_b7c8_b05adad52aa1row10_col0\" class=\"data row10 col0\" >reactive</td> \n",
       "        <td id=\"T_9b19f49c_9ac2_11e9_b7c8_b05adad52aa1row10_col1\" class=\"data row10 col1\" >O</td> \n",
       "    </tr>    <tr> \n",
       "        <th id=\"T_9b19f49c_9ac2_11e9_b7c8_b05adad52aa1level0_row11\" class=\"row_heading level0 row11\" >11</th> \n",
       "        <td id=\"T_9b19f49c_9ac2_11e9_b7c8_b05adad52aa1row11_col0\" class=\"data row11 col0\" >oxygen</td> \n",
       "        <td id=\"T_9b19f49c_9ac2_11e9_b7c8_b05adad52aa1row11_col1\" class=\"data row11 col1\" >O</td> \n",
       "    </tr>    <tr> \n",
       "        <th id=\"T_9b19f49c_9ac2_11e9_b7c8_b05adad52aa1level0_row12\" class=\"row_heading level0 row12\" >12</th> \n",
       "        <td id=\"T_9b19f49c_9ac2_11e9_b7c8_b05adad52aa1row12_col0\" class=\"data row12 col0\" >production</td> \n",
       "        <td id=\"T_9b19f49c_9ac2_11e9_b7c8_b05adad52aa1row12_col1\" class=\"data row12 col1\" >O</td> \n",
       "    </tr>    <tr> \n",
       "        <th id=\"T_9b19f49c_9ac2_11e9_b7c8_b05adad52aa1level0_row13\" class=\"row_heading level0 row13\" >13</th> \n",
       "        <td id=\"T_9b19f49c_9ac2_11e9_b7c8_b05adad52aa1row13_col0\" class=\"data row13 col0\" >by</td> \n",
       "        <td id=\"T_9b19f49c_9ac2_11e9_b7c8_b05adad52aa1row13_col1\" class=\"data row13 col1\" >O</td> \n",
       "    </tr>    <tr> \n",
       "        <th id=\"T_9b19f49c_9ac2_11e9_b7c8_b05adad52aa1level0_row14\" class=\"row_heading level0 row14\" >14</th> \n",
       "        <td id=\"T_9b19f49c_9ac2_11e9_b7c8_b05adad52aa1row14_col0\" class=\"data row14 col0\" >5-lipoxygenase</td> \n",
       "        <td id=\"T_9b19f49c_9ac2_11e9_b7c8_b05adad52aa1row14_col1\" class=\"data row14 col1\" >B-protein</td> \n",
       "    </tr>    <tr> \n",
       "        <th id=\"T_9b19f49c_9ac2_11e9_b7c8_b05adad52aa1level0_row15\" class=\"row_heading level0 row15\" >15</th> \n",
       "        <td id=\"T_9b19f49c_9ac2_11e9_b7c8_b05adad52aa1row15_col0\" class=\"data row15 col0\" >.</td> \n",
       "        <td id=\"T_9b19f49c_9ac2_11e9_b7c8_b05adad52aa1row15_col1\" class=\"data row15 col1\" >O</td> \n",
       "    </tr></tbody> \n",
       "</table> "
      ]
     },
     "metadata": {},
     "output_type": "display_data"
    }
   ],
   "source": [
    "import pandas as pd\n",
    "from IPython.display import display_html\n",
    "\n",
    "#Try to change this variable value\n",
    "sentence_to_visualize = 0\n",
    "\n",
    "with open(\"./BetterDataset/data.train\", 'rb') as file_handle:\n",
    "    file_content = file_handle.read().decode('utf-8').strip()\n",
    "    annotated_sentences = file_content.split('\\n\\n')\n",
    "    sentence = annotated_sentences[sentence_to_visualize]\n",
    "    sentence = sentence.split()\n",
    "    sentence = [sentence[i:i + 2] for i in range(0, len(sentence), 2)]\n",
    "    cols=['Tokens','Entity']\n",
    "    df2 = pd.DataFrame(sentence, columns=cols)\n",
    "    df2_styler = df2.reset_index(drop=True).style.set_table_attributes(\"style='display:inline'\").set_caption('Entities Distribution')\n",
    "    display_html(df2_styler._repr_html_(), raw=True)"
   ]
  },
  {
   "cell_type": "markdown",
   "metadata": {},
   "source": [
    "### Visual Example:\n",
    "![ola](Images/sentence.png)"
   ]
  },
  {
   "cell_type": "markdown",
   "metadata": {},
   "source": [
    "### Dataset Statistics:"
   ]
  },
  {
   "cell_type": "code",
   "execution_count": 46,
   "metadata": {},
   "outputs": [
    {
     "data": {
      "text/html": [
       "<style  type=\"text/css\" >\n",
       "</style>  \n",
       "<table id=\"T_987419a4_9ac2_11e9_872f_b05adad52aa1\" style='display:inline'><caption>Instances Distribution</caption> \n",
       "<thead>    <tr> \n",
       "        <th class=\"blank level0\" ></th> \n",
       "        <th class=\"col_heading level0 col0\" >Split</th> \n",
       "        <th class=\"col_heading level0 col1\" >Tokens</th> \n",
       "        <th class=\"col_heading level0 col2\" >Sentences</th> \n",
       "    </tr></thead> \n",
       "<tbody>    <tr> \n",
       "        <th id=\"T_987419a4_9ac2_11e9_872f_b05adad52aa1level0_row0\" class=\"row_heading level0 row0\" >0</th> \n",
       "        <td id=\"T_987419a4_9ac2_11e9_872f_b05adad52aa1row0_col0\" class=\"data row0 col0\" >Train</td> \n",
       "        <td id=\"T_987419a4_9ac2_11e9_872f_b05adad52aa1row0_col1\" class=\"data row0 col1\" >71697</td> \n",
       "        <td id=\"T_987419a4_9ac2_11e9_872f_b05adad52aa1row0_col2\" class=\"data row0 col2\" >2815</td> \n",
       "    </tr>    <tr> \n",
       "        <th id=\"T_987419a4_9ac2_11e9_872f_b05adad52aa1level0_row1\" class=\"row_heading level0 row1\" >1</th> \n",
       "        <td id=\"T_987419a4_9ac2_11e9_872f_b05adad52aa1row1_col0\" class=\"data row1 col0\" >Test</td> \n",
       "        <td id=\"T_987419a4_9ac2_11e9_872f_b05adad52aa1row1_col1\" class=\"data row1 col1\" >45939</td> \n",
       "        <td id=\"T_987419a4_9ac2_11e9_872f_b05adad52aa1row1_col2\" class=\"data row1 col2\" >1882</td> \n",
       "    </tr>    <tr> \n",
       "        <th id=\"T_987419a4_9ac2_11e9_872f_b05adad52aa1level0_row2\" class=\"row_heading level0 row2\" >2</th> \n",
       "        <td id=\"T_987419a4_9ac2_11e9_872f_b05adad52aa1row2_col0\" class=\"data row2 col0\" >All</td> \n",
       "        <td id=\"T_987419a4_9ac2_11e9_872f_b05adad52aa1row2_col1\" class=\"data row2 col1\" >117636</td> \n",
       "        <td id=\"T_987419a4_9ac2_11e9_872f_b05adad52aa1row2_col2\" class=\"data row2 col2\" >4697</td> \n",
       "    </tr></tbody> \n",
       "</table> <style  type=\"text/css\" >\n",
       "</style>  \n",
       "<table id=\"T_987467b0_9ac2_11e9_a643_b05adad52aa1\" style='display:inline'><caption>Entities Distribution</caption> \n",
       "<thead>    <tr> \n",
       "        <th class=\"blank level0\" ></th> \n",
       "        <th class=\"col_heading level0 col0\" >Token Entities:</th> \n",
       "        <th class=\"col_heading level0 col1\" >Count</th> \n",
       "    </tr></thead> \n",
       "<tbody>    <tr> \n",
       "        <th id=\"T_987467b0_9ac2_11e9_a643_b05adad52aa1level0_row0\" class=\"row_heading level0 row0\" >0</th> \n",
       "        <td id=\"T_987467b0_9ac2_11e9_a643_b05adad52aa1row0_col0\" class=\"data row0 col0\" >Anatomical_system</td> \n",
       "        <td id=\"T_987467b0_9ac2_11e9_a643_b05adad52aa1row0_col1\" class=\"data row0 col1\" >51</td> \n",
       "    </tr>    <tr> \n",
       "        <th id=\"T_987467b0_9ac2_11e9_a643_b05adad52aa1level0_row1\" class=\"row_heading level0 row1\" >1</th> \n",
       "        <td id=\"T_987467b0_9ac2_11e9_a643_b05adad52aa1row1_col0\" class=\"data row1 col0\" >Cell</td> \n",
       "        <td id=\"T_987467b0_9ac2_11e9_a643_b05adad52aa1row1_col1\" class=\"data row1 col1\" >776</td> \n",
       "    </tr>    <tr> \n",
       "        <th id=\"T_987467b0_9ac2_11e9_a643_b05adad52aa1level0_row2\" class=\"row_heading level0 row2\" >2</th> \n",
       "        <td id=\"T_987467b0_9ac2_11e9_a643_b05adad52aa1row2_col0\" class=\"data row2 col0\" >Cellular_component</td> \n",
       "        <td id=\"T_987467b0_9ac2_11e9_a643_b05adad52aa1row2_col1\" class=\"data row2 col1\" >199</td> \n",
       "    </tr>    <tr> \n",
       "        <th id=\"T_987467b0_9ac2_11e9_a643_b05adad52aa1level0_row3\" class=\"row_heading level0 row3\" >3</th> \n",
       "        <td id=\"T_987467b0_9ac2_11e9_a643_b05adad52aa1row3_col0\" class=\"data row3 col0\" >Developing_anatomical_structure </td> \n",
       "        <td id=\"T_987467b0_9ac2_11e9_a643_b05adad52aa1row3_col1\" class=\"data row3 col1\" >39</td> \n",
       "    </tr>    <tr> \n",
       "        <th id=\"T_987467b0_9ac2_11e9_a643_b05adad52aa1level0_row4\" class=\"row_heading level0 row4\" >4</th> \n",
       "        <td id=\"T_987467b0_9ac2_11e9_a643_b05adad52aa1row4_col0\" class=\"data row4 col0\" >Immaterial_anatomical_entity</td> \n",
       "        <td id=\"T_987467b0_9ac2_11e9_a643_b05adad52aa1row4_col1\" class=\"data row4 col1\" >60</td> \n",
       "    </tr>    <tr> \n",
       "        <th id=\"T_987467b0_9ac2_11e9_a643_b05adad52aa1level0_row5\" class=\"row_heading level0 row5\" >5</th> \n",
       "        <td id=\"T_987467b0_9ac2_11e9_a643_b05adad52aa1row5_col0\" class=\"data row5 col0\" >Multi-tissue_structure</td> \n",
       "        <td id=\"T_987467b0_9ac2_11e9_a643_b05adad52aa1row5_col1\" class=\"data row5 col1\" >639</td> \n",
       "    </tr>    <tr> \n",
       "        <th id=\"T_987467b0_9ac2_11e9_a643_b05adad52aa1level0_row6\" class=\"row_heading level0 row6\" >6</th> \n",
       "        <td id=\"T_987467b0_9ac2_11e9_a643_b05adad52aa1row6_col0\" class=\"data row6 col0\" >Organ</td> \n",
       "        <td id=\"T_987467b0_9ac2_11e9_a643_b05adad52aa1row6_col1\" class=\"data row6 col1\" >381</td> \n",
       "    </tr>    <tr> \n",
       "        <th id=\"T_987467b0_9ac2_11e9_a643_b05adad52aa1level0_row7\" class=\"row_heading level0 row7\" >7</th> \n",
       "        <td id=\"T_987467b0_9ac2_11e9_a643_b05adad52aa1row7_col0\" class=\"data row7 col0\" >Organism_subdivision</td> \n",
       "        <td id=\"T_987467b0_9ac2_11e9_a643_b05adad52aa1row7_col1\" class=\"data row7 col1\" >162</td> \n",
       "    </tr>    <tr> \n",
       "        <th id=\"T_987467b0_9ac2_11e9_a643_b05adad52aa1level0_row8\" class=\"row_heading level0 row8\" >8</th> \n",
       "        <td id=\"T_987467b0_9ac2_11e9_a643_b05adad52aa1row8_col0\" class=\"data row8 col0\" >Organism_substance</td> \n",
       "        <td id=\"T_987467b0_9ac2_11e9_a643_b05adad52aa1row8_col1\" class=\"data row8 col1\" >291</td> \n",
       "    </tr>    <tr> \n",
       "        <th id=\"T_987467b0_9ac2_11e9_a643_b05adad52aa1level0_row9\" class=\"row_heading level0 row9\" >9</th> \n",
       "        <td id=\"T_987467b0_9ac2_11e9_a643_b05adad52aa1row9_col0\" class=\"data row9 col0\" >Pathological_formation</td> \n",
       "        <td id=\"T_987467b0_9ac2_11e9_a643_b05adad52aa1row9_col1\" class=\"data row9 col1\" >368</td> \n",
       "    </tr>    <tr> \n",
       "        <th id=\"T_987467b0_9ac2_11e9_a643_b05adad52aa1level0_row10\" class=\"row_heading level0 row10\" >10</th> \n",
       "        <td id=\"T_987467b0_9ac2_11e9_a643_b05adad52aa1row10_col0\" class=\"data row10 col0\" >Tissue</td> \n",
       "        <td id=\"T_987467b0_9ac2_11e9_a643_b05adad52aa1row10_col1\" class=\"data row10 col1\" >169</td> \n",
       "    </tr>    <tr> \n",
       "        <th id=\"T_987467b0_9ac2_11e9_a643_b05adad52aa1level0_row11\" class=\"row_heading level0 row11\" >11</th> \n",
       "        <td id=\"T_987467b0_9ac2_11e9_a643_b05adad52aa1row11_col0\" class=\"data row11 col0\" >No Entity</td> \n",
       "        <td id=\"T_987467b0_9ac2_11e9_a643_b05adad52aa1row11_col1\" class=\"data row11 col1\" >112000</td> \n",
       "    </tr></tbody> \n",
       "</table> "
      ]
     },
     "metadata": {},
     "output_type": "display_data"
    }
   ],
   "source": [
    "from IPython.display import display_html\n",
    "import pandas as pd\n",
    "import numpy as np\n",
    "\n",
    "d = np.array([['Train', 71697, 2815], ['Test', 45939, 1882], ['All', 117636, 4697]])\n",
    "cols=['Split', 'Tokens', 'Sentences']\n",
    "df = pd.DataFrame(d, columns=cols)\n",
    "\n",
    "d2 = np.array([['Anatomical_system', 51],['Cell', 776],['Cellular_component', 199],['Developing_anatomical_structure ', 39],\n",
    "              ['Immaterial_anatomical_entity', 60],['Multi-tissue_structure', 639],['Organ', 381],\n",
    "              ['Organism_subdivision', 162],['Organism_substance', 291],['Pathological_formation', 368],\n",
    "              ['Tissue', 169],['No Entity', 112000]])\n",
    "cols=['Token Entities:', 'Count']\n",
    "df2 = pd.DataFrame(d2, columns=cols)\n",
    "\n",
    "df1_styler = df.reset_index(drop=True).style.set_table_attributes(\"style='display:inline'\").set_caption('Instances Distribution')\n",
    "df2_styler = df2.reset_index(drop=True).style.set_table_attributes(\"style='display:inline'\").set_caption('Entities Distribution')\n",
    "\n",
    "display_html(df1_styler._repr_html_()+df2_styler._repr_html_(), raw=True)\n",
    "\n",
    "        "
   ]
  },
  {
   "cell_type": "markdown",
   "metadata": {},
   "source": [
    "# Task:1 Prepare the dataset for the model\n",
    "### Read data from a ConLL file:"
   ]
  },
  {
   "cell_type": "code",
   "execution_count": 48,
   "metadata": {},
   "outputs": [
    {
     "name": "stdout",
     "output_type": "stream",
     "text": [
      "[['IL-2', 'B-DNA'], ['gene', 'I-DNA'], ['expression', 'O'], ['and', 'O'], ['NF-kappa', 'B-protein'], ['B', 'I-protein'], ['activation', 'O'], ['through', 'O'], ['CD28', 'B-protein'], ['requires', 'O'], ['reactive', 'O'], ['oxygen', 'O'], ['production', 'O'], ['by', 'O'], ['5-lipoxygenase', 'B-protein'], ['.', 'O']]\n"
     ]
    }
   ],
   "source": [
    "import os\n",
    "def read_conll(filename_end):\n",
    "    word_pos = 0\n",
    "    pos_pos= None\n",
    "    iob_pos = 3\n",
    "    sep = '\\t'\n",
    "    IOB= 'IOB2'\n",
    "    corpus_root=\"./BetterDataset\"\n",
    "\n",
    "    for root, dirs, files in os.walk(corpus_root):\n",
    "        for filename in files:\n",
    "            if filename.endswith(filename_end):\n",
    "                with open(os.path.join(root, filename), 'rb') as file_handle:\n",
    "                    try:\n",
    "                        file_content = file_handle.read().decode('utf-8').strip()\n",
    "                    except:\n",
    "                        raise ValueError(\"Can't process!\")\n",
    "                    \n",
    "                    annotated_sentences = file_content.split('\\n\\n')\n",
    "                    for annotated_sentence in annotated_sentences:\n",
    "                        annotated_tokens = [seq for seq in annotated_sentence.split('\\n')]\n",
    "                        all_tokens = []\n",
    "                        #print(annotated_tokens)\n",
    "                        for annotation in annotated_tokens:\n",
    "                            conll_tokens = annotation.split(sep)\n",
    "                            #print(conll_tokens)\n",
    "                            all_tokens.append(conll_tokens)\n",
    "                        yield all_tokens\n",
    "                            \n",
    "                            \n",
    "data_train = list(read_conll('.train'))\n",
    "data_test = list(read_conll('.test'))\n",
    "\n",
    "#We can visualize the input for each sentence:\n",
    "print(data_train[0])"
   ]
  },
  {
   "cell_type": "markdown",
   "metadata": {},
   "source": [
    "### Merge sentence and label vectors:"
   ]
  },
  {
   "cell_type": "code",
   "execution_count": 53,
   "metadata": {},
   "outputs": [
    {
     "name": "stdout",
     "output_type": "stream",
     "text": [
      "['IL-2', 'gene', 'expression', 'and', 'NF-kappa', 'B', 'activation', 'through', 'CD28', 'requires', 'reactive', 'oxygen', 'production', 'by', '5-lipoxygenase', '.']\n",
      "['B-DNA', 'I-DNA', 'O', 'O', 'B-protein', 'I-protein', 'O', 'O', 'B-protein', 'O', 'O', 'O', 'O', 'O', 'B-protein', 'O']\n"
     ]
    }
   ],
   "source": [
    "def transform(data):\n",
    "    sentences_array=[]\n",
    "    labels_array=[]\n",
    "    for data_input in data:\n",
    "        sentence=[]\n",
    "        labels=[]\n",
    "        for vec in data_input:\n",
    "            sentence.append(vec[0])\n",
    "            labels.append(vec[1])\n",
    "        sentences_array.append(sentence)\n",
    "        labels_array.append(labels)\n",
    "\n",
    "    return sentences_array,labels_array\n",
    "\n",
    "sentences_train, labels_train = transform(data_train)\n",
    "sentences_test, labels_test = transform(data_test)\n",
    "\n",
    "#We can visualize the input for each sentence:\n",
    "print(sentences_train[0])\n",
    "print(labels_train[0])"
   ]
  },
  {
   "cell_type": "markdown",
   "metadata": {},
   "source": [
    "### Convert Labels to Numeric Values:"
   ]
  },
  {
   "cell_type": "code",
   "execution_count": 54,
   "metadata": {},
   "outputs": [
    {
     "name": "stdout",
     "output_type": "stream",
     "text": [
      "(18546,)\n",
      "(105,)\n",
      "[3, 4, 0, 0, 1, 2, 0, 0, 1, 0, 0, 0, 0, 0, 1, 0]\n",
      "[0, 0, 0, 0, 0, 0, 1, 2, 0, 1, 2, 2, 0, 1, 0, 0, 1, 0, 0, 0, 0, 7, 8, 8, 8, 0, 0, 0, 0, 0, 0, 0, 0]\n"
     ]
    }
   ],
   "source": [
    "import numpy as np\n",
    "def convert(labels_array):\n",
    "    labels_array_changed = np.copy(labels_array)\n",
    "    for idx,label_vec in enumerate(labels_array_changed):\n",
    "        for idx,label in enumerate(label_vec):\n",
    "            if label==\"O\":\n",
    "                label_vec[idx]=0\n",
    "            if label==\"B-protein\":\n",
    "                label_vec[idx]=1\n",
    "            if label==\"I-protein\":\n",
    "                label_vec[idx]=2\n",
    "            if label==\"B-DNA\":\n",
    "                label_vec[idx]=3\n",
    "            if label==\"I-DNA\":\n",
    "                label_vec[idx]=4\n",
    "            if label==\"B-RNA\":\n",
    "                label_vec[idx]=5\n",
    "            if label==\"I-RNA\":\n",
    "                label_vec[idx]=6\n",
    "            if label==\"B-cell_type\":\n",
    "                label_vec[idx]=7\n",
    "            if label==\"I-cell_type\":\n",
    "                label_vec[idx]=8\n",
    "            if label==\"B-cell_line\":\n",
    "                label_vec[idx]=9\n",
    "            if label==\"I-cell_line\":\n",
    "                label_vec[idx]=10\n",
    "    return labels_array_changed\n",
    "\n",
    "labels_train_transformed = convert(labels_train)\n",
    "labels_test_transformed = convert(labels_test)\n",
    "print(labels_train_transformed.shape)\n",
    "print(labels_test_transformed.shape)\n",
    "print(labels_train_transformed[0])\n",
    "print(labels_test_transformed[0])"
   ]
  },
  {
   "cell_type": "markdown",
   "metadata": {},
   "source": [
    "### Optional to convert to one-hot encoding :"
   ]
  },
  {
   "cell_type": "code",
   "execution_count": 67,
   "metadata": {},
   "outputs": [
    {
     "name": "stdout",
     "output_type": "stream",
     "text": [
      "[3, 4, 0, 0, 1, 2, 0, 0, 1, 0, 0, 0, 0, 0, 1, 0]\n",
      "(18546,)\n",
      "[[0. 0. 0. 1. 0. 0. 0. 0. 0. 0. 0.]\n",
      " [0. 0. 0. 0. 1. 0. 0. 0. 0. 0. 0.]\n",
      " [1. 0. 0. 0. 0. 0. 0. 0. 0. 0. 0.]\n",
      " [1. 0. 0. 0. 0. 0. 0. 0. 0. 0. 0.]\n",
      " [0. 1. 0. 0. 0. 0. 0. 0. 0. 0. 0.]\n",
      " [0. 0. 1. 0. 0. 0. 0. 0. 0. 0. 0.]\n",
      " [1. 0. 0. 0. 0. 0. 0. 0. 0. 0. 0.]\n",
      " [1. 0. 0. 0. 0. 0. 0. 0. 0. 0. 0.]\n",
      " [0. 1. 0. 0. 0. 0. 0. 0. 0. 0. 0.]\n",
      " [1. 0. 0. 0. 0. 0. 0. 0. 0. 0. 0.]\n",
      " [1. 0. 0. 0. 0. 0. 0. 0. 0. 0. 0.]\n",
      " [1. 0. 0. 0. 0. 0. 0. 0. 0. 0. 0.]\n",
      " [1. 0. 0. 0. 0. 0. 0. 0. 0. 0. 0.]\n",
      " [1. 0. 0. 0. 0. 0. 0. 0. 0. 0. 0.]\n",
      " [0. 1. 0. 0. 0. 0. 0. 0. 0. 0. 0.]\n",
      " [1. 0. 0. 0. 0. 0. 0. 0. 0. 0. 0.]]\n"
     ]
    }
   ],
   "source": [
    "import keras\n",
    "def to_categorical(labels_array):\n",
    "    print(labels_array.shape)\n",
    "    labels_train_changed = np.copy(labels_array)\n",
    "    for idx,label_vec in enumerate(labels_train_changed):\n",
    "        label_vec = keras.utils.to_categorical(label_vec, num_classes=11, dtype='float32')\n",
    "        labels_train_changed[idx]=label_vec\n",
    "    return labels_train_changed\n",
    "\n",
    "print(labels_train_transformed[0])\n",
    "example = to_categorical(labels_train_transformed)\n",
    "print(example[0])"
   ]
  },
  {
   "cell_type": "markdown",
   "metadata": {},
   "source": [
    "### Visualize Reports length:"
   ]
  },
  {
   "cell_type": "code",
   "execution_count": 57,
   "metadata": {},
   "outputs": [
    {
     "data": {
      "image/png": "[encoded data removed]",
      "text/plain": [
       "<Figure size 432x288 with 1 Axes>"
      ]
     },
     "metadata": {
      "needs_background": "light"
     },
     "output_type": "display_data"
    }
   ],
   "source": [
    "import matplotlib.pyplot as plt\n",
    "import pandas as pd\n",
    "import numpy as np\n",
    "from matplotlib.ticker import FuncFormatter\n",
    "tlen = [len(x) for x in sentences_train] \n",
    "fig, ax = plt.subplots()\n",
    "plt.hist(tlen, bins=np.arange(max(tlen)), histtype='barstacked', linewidth=2)\n",
    "plt.title(\"Length of reports\")\n",
    "plt.ylabel('# of Instances', fontsize=12)\n",
    "plt.xlabel('Length of reports', fontsize=12)\n",
    "plt.show()"
   ]
  },
  {
   "cell_type": "markdown",
   "metadata": {},
   "source": [
    "### Padding to Input Shape:"
   ]
  },
  {
   "cell_type": "code",
   "execution_count": 68,
   "metadata": {},
   "outputs": [
    {
     "name": "stdout",
     "output_type": "stream",
     "text": [
      "Input Shapes:\n",
      "(18546, 50)\n",
      "(105, 50)\n",
      "Target Shapes:\n",
      "(18546, 50, 1)\n",
      "(105, 50, 1)\n"
     ]
    }
   ],
   "source": [
    "from keras.preprocessing.text import Tokenizer\n",
    "from keras.preprocessing.sequence import pad_sequences\n",
    "import numpy as np\n",
    "\n",
    "\n",
    "tokenizer = Tokenizer()\n",
    "tokenizer.fit_on_texts(sentences_train)\n",
    "tokenizer.fit_on_texts(sentences_test)\n",
    "voc_size = len(tokenizer.word_index)+1\n",
    "\n",
    "def convert2(x,y):\n",
    "    X_total = tokenizer.texts_to_sequences(x)\n",
    "    X_total = pad_sequences(X_total, maxlen=50, padding='post')\n",
    "    Y_total = pad_sequences(y, maxlen=50, padding='post', value=0)\n",
    "    return X_total,Y_total\n",
    "\n",
    "X_train, y_train = convert2(sentences_train, labels_train_transformed)\n",
    "X_test, y_test = convert2(sentences_test, labels_test_transformed)\n",
    "\n",
    "print(\"Input Shapes:\")\n",
    "print(X_train.shape)\n",
    "print(X_test.shape)\n",
    "\n",
    "print(\"Target Shapes:\")\n",
    "y_train = np.expand_dims(y_train, axis=2)\n",
    "print(y_train.shape)\n",
    "y_test = np.expand_dims(y_test, axis=2)\n",
    "print(y_test.shape)"
   ]
  },
  {
   "cell_type": "markdown",
   "metadata": {},
   "source": [
    "### Metric Evaluation:"
   ]
  },
  {
   "cell_type": "code",
   "execution_count": 61,
   "metadata": {},
   "outputs": [],
   "source": [
    "from tensorflow.python.ops import math_ops\n",
    "from tensorflow.python.framework import ops\n",
    "from tensorflow.python.keras import backend as K\n",
    "from tensorflow.python.ops import array_ops\n",
    "def new_sparse_categorical_accuracy(y_true, y_pred):\n",
    "        y_pred_rank = ops.convert_to_tensor(y_pred).get_shape().ndims\n",
    "        y_true_rank = ops.convert_to_tensor(y_true).get_shape().ndims\n",
    "        # If the shape of y_true is (num_samples, 1), squeeze to (num_samples,)\n",
    "        if (y_true_rank is not None) and (y_pred_rank is not None) and (len(K.int_shape(y_true)) == len(K.int_shape(y_pred))):\n",
    "            y_true = array_ops.squeeze(y_true, [-1])\n",
    "        y_pred = math_ops.argmax(y_pred, axis=-1)\n",
    "        # If the predicted output and actual output types don't match, force cast them\n",
    "        # to match.\n",
    "        if K.dtype(y_pred) != K.dtype(y_true):\n",
    "            y_pred = math_ops.cast(y_pred, K.dtype(y_true))\n",
    "        return math_ops.cast(math_ops.equal(y_true, y_pred), K.floatx())"
   ]
  },
  {
   "cell_type": "markdown",
   "metadata": {},
   "source": [
    "# Attempt 1:\n",
    "### Create Model:"
   ]
  },
  {
   "cell_type": "code",
   "execution_count": 69,
   "metadata": {},
   "outputs": [
    {
     "name": "stdout",
     "output_type": "stream",
     "text": [
      "_________________________________________________________________\n",
      "Layer (type)                 Output Shape              Param #   \n",
      "=================================================================\n",
      "input_2 (InputLayer)         (None, 50)                0         \n",
      "_________________________________________________________________\n",
      "embedding_2 (Embedding)      (None, 50, 32)            643520    \n",
      "_________________________________________________________________\n",
      "bidirectional_2 (Bidirection (None, 50, 256)           164864    \n",
      "_________________________________________________________________\n",
      "dense_3 (Dense)              (None, 50, 256)           65792     \n",
      "_________________________________________________________________\n",
      "dropout_2 (Dropout)          (None, 50, 256)           0         \n",
      "_________________________________________________________________\n",
      "time_distributed_2 (TimeDist (None, 50, 11)            2827      \n",
      "=================================================================\n",
      "Total params: 877,003\n",
      "Trainable params: 877,003\n",
      "Non-trainable params: 0\n",
      "_________________________________________________________________\n"
     ]
    }
   ],
   "source": [
    "from keras.models import Model\n",
    "from keras.layers import Dense,TimeDistributed, Input, Embedding,Bidirectional,LSTM,Dropout\n",
    "from sklearn.utils import class_weight\n",
    "import numpy as np\n",
    "\n",
    "def create_model(voc):\n",
    "    sequence_input = Input(shape=(50,), dtype='int32')\n",
    "    embedded_sequences = Embedding(voc, 32, input_length=50)(sequence_input)\n",
    "    bilstm = Bidirectional(LSTM(128, dropout=0.2, recurrent_dropout=0.2, return_sequences=True, return_state=False))(embedded_sequences)\n",
    "    dense = Dense(256)(bilstm)\n",
    "    drop = Dropout(0.2)(dense)\n",
    "    preds = TimeDistributed(Dense(11, activation='softmax'))(drop)\n",
    "    model = Model(inputs=sequence_input, outputs=preds)\n",
    "\n",
    "    model.compile(loss='sparse_categorical_crossentropy', optimizer='adam', metrics=[new_sparse_categorical_accuracy])\n",
    "    model.summary()\n",
    "    return model\n",
    "\n",
    "model = create_model(voc_size)"
   ]
  },
  {
   "cell_type": "markdown",
   "metadata": {},
   "source": [
    "### Train:"
   ]
  },
  {
   "cell_type": "code",
   "execution_count": 70,
   "metadata": {},
   "outputs": [
    {
     "data": {
      "application/vnd.jupyter.widget-view+json": {
       "model_id": "ab6698a1c33c45ceacc978bf74d8f06c",
       "version_major": 2,
       "version_minor": 0
      },
      "text/plain": [
       "HBox(children=(IntProgress(value=0, description='Training', max=3, style=ProgressStyle(description_width='init…"
      ]
     },
     "metadata": {},
     "output_type": "display_data"
    },
    {
     "data": {
      "application/vnd.jupyter.widget-view+json": {
       "model_id": "2c2c20ad750041ff95095f0e7b914fa4",
       "version_major": 2,
       "version_minor": 0
      },
      "text/plain": [
       "HBox(children=(IntProgress(value=0, description='Epoch 0', max=14836, style=ProgressStyle(description_width='i…"
      ]
     },
     "metadata": {},
     "output_type": "display_data"
    },
    {
     "data": {
      "application/vnd.jupyter.widget-view+json": {
       "model_id": "8f750ca2cb444cbd8a34691fca4dc5b4",
       "version_major": 2,
       "version_minor": 0
      },
      "text/plain": [
       "HBox(children=(IntProgress(value=0, description='Epoch 1', max=14836, style=ProgressStyle(description_width='i…"
      ]
     },
     "metadata": {},
     "output_type": "display_data"
    },
    {
     "data": {
      "application/vnd.jupyter.widget-view+json": {
       "model_id": "c330185085a44927ba8c735207e7c463",
       "version_major": 2,
       "version_minor": 0
      },
      "text/plain": [
       "HBox(children=(IntProgress(value=0, description='Epoch 2', max=14836, style=ProgressStyle(description_width='i…"
      ]
     },
     "metadata": {},
     "output_type": "display_data"
    },
    {
     "name": "stdout",
     "output_type": "stream",
     "text": [
      "[[0]\n",
      " [0]\n",
      " [0]\n",
      " [0]\n",
      " [0]\n",
      " [0]\n",
      " [1]\n",
      " [2]\n",
      " [0]\n",
      " [1]\n",
      " [2]\n",
      " [2]\n",
      " [0]\n",
      " [1]\n",
      " [0]\n",
      " [0]\n",
      " [1]\n",
      " [0]\n",
      " [0]\n",
      " [0]\n",
      " [7]\n",
      " [8]\n",
      " [8]\n",
      " [8]\n",
      " [8]\n",
      " [0]\n",
      " [0]\n",
      " [0]\n",
      " [0]\n",
      " [0]\n",
      " [0]\n",
      " [0]\n",
      " [0]\n",
      " [0]\n",
      " [0]\n",
      " [0]\n",
      " [0]\n",
      " [0]\n",
      " [0]\n",
      " [0]\n",
      " [0]\n",
      " [0]\n",
      " [0]\n",
      " [0]\n",
      " [0]\n",
      " [0]\n",
      " [0]\n",
      " [0]\n",
      " [0]\n",
      " [0]]\n",
      "[[0]\n",
      " [0]\n",
      " [0]\n",
      " [0]\n",
      " [0]\n",
      " [0]\n",
      " [1]\n",
      " [2]\n",
      " [0]\n",
      " [1]\n",
      " [2]\n",
      " [2]\n",
      " [0]\n",
      " [1]\n",
      " [0]\n",
      " [0]\n",
      " [1]\n",
      " [0]\n",
      " [0]\n",
      " [0]\n",
      " [0]\n",
      " [7]\n",
      " [8]\n",
      " [8]\n",
      " [8]\n",
      " [0]\n",
      " [0]\n",
      " [0]\n",
      " [0]\n",
      " [0]\n",
      " [0]\n",
      " [0]\n",
      " [0]\n",
      " [0]\n",
      " [0]\n",
      " [0]\n",
      " [0]\n",
      " [0]\n",
      " [0]\n",
      " [0]\n",
      " [0]\n",
      " [0]\n",
      " [0]\n",
      " [0]\n",
      " [0]\n",
      " [0]\n",
      " [0]\n",
      " [0]\n",
      " [0]\n",
      " [0]]\n",
      "              precision    recall  f1-score   support\n",
      "\n",
      "           0      0.970     0.983     0.976      4770\n",
      "           1      0.550     0.661     0.601       124\n",
      "           2      0.775     0.457     0.575       151\n",
      "           3      0.333     0.667     0.444         6\n",
      "           4      0.391     1.000     0.562         9\n",
      "           5      0.000     0.000     0.000        15\n",
      "           6      0.750     0.231     0.353        26\n",
      "           7      0.714     0.545     0.619        55\n",
      "           8      0.803     0.663     0.726        86\n",
      "           9      0.333     1.000     0.500         2\n",
      "          10      0.462     1.000     0.632         6\n",
      "\n",
      "    accuracy                          0.944      5250\n",
      "   macro avg      0.553     0.655     0.544      5250\n",
      "weighted avg      0.943     0.944     0.940      5250\n",
      "\n"
     ]
    }
   ],
   "source": [
    "from keras_tqdm import TQDMNotebookCallback\n",
    "from sklearn_crfsuite import metrics\n",
    "\n",
    "model.fit(x=X_train, y=y_train,validation_split=0.2,batch_size=32, epochs=3,verbose=0, callbacks=[TQDMNotebookCallback(leave_inner=True)])\n",
    "y_pred = model.predict(X_test)\n",
    "y_pred = y_pred.argmax(axis=-1)\n",
    "y_pred = np.expand_dims(y_pred, axis=2)\n",
    "print(metrics.flat_classification_report(y_test, y_pred, digits=3))\n",
    "\n"
   ]
  },
  {
   "cell_type": "markdown",
   "metadata": {},
   "source": [
    "### Train2:"
   ]
  },
  {
   "cell_type": "code",
   "execution_count": 75,
   "metadata": {},
   "outputs": [
    {
     "name": "stdout",
     "output_type": "stream",
     "text": [
      "[ 0  1  2  3  4  5  6  7  8  9 10]\n",
      "[819129  29916  24538   9399  15547    926   1493   6630   8645   3775\n",
      "   7302]\n",
      "[ 0  1  2  3  4  5  6  7  8  9 10]\n",
      "[724279  29916  24538   9399  15547    926   1493   6630   8645   3775\n",
      "   7302]\n",
      "(16649, 50)\n",
      "(16649, 50, 1)\n"
     ]
    },
    {
     "data": {
      "application/vnd.jupyter.widget-view+json": {
       "model_id": "df9cd988ff2e4fe1a6cbc015bff9736f",
       "version_major": 2,
       "version_minor": 0
      },
      "text/plain": [
       "HBox(children=(IntProgress(value=0, description='Training', max=3, style=ProgressStyle(description_width='init…"
      ]
     },
     "metadata": {},
     "output_type": "display_data"
    },
    {
     "data": {
      "application/vnd.jupyter.widget-view+json": {
       "model_id": "f8c1ea6e09414b1da22db739ad7561f6",
       "version_major": 2,
       "version_minor": 0
      },
      "text/plain": [
       "HBox(children=(IntProgress(value=0, description='Epoch 0', max=13319, style=ProgressStyle(description_width='i…"
      ]
     },
     "metadata": {},
     "output_type": "display_data"
    },
    {
     "data": {
      "application/vnd.jupyter.widget-view+json": {
       "model_id": "5691163e410142fcaf0481a1bd4cdb9c",
       "version_major": 2,
       "version_minor": 0
      },
      "text/plain": [
       "HBox(children=(IntProgress(value=0, description='Epoch 1', max=13319, style=ProgressStyle(description_width='i…"
      ]
     },
     "metadata": {},
     "output_type": "display_data"
    },
    {
     "data": {
      "application/vnd.jupyter.widget-view+json": {
       "model_id": "63f8c3816bbc4e0a8116e7659b009b95",
       "version_major": 2,
       "version_minor": 0
      },
      "text/plain": [
       "HBox(children=(IntProgress(value=0, description='Epoch 2', max=13319, style=ProgressStyle(description_width='i…"
      ]
     },
     "metadata": {},
     "output_type": "display_data"
    },
    {
     "name": "stdout",
     "output_type": "stream",
     "text": [
      "              precision    recall  f1-score   support\n",
      "\n",
      "           0      0.972     0.984     0.978      4770\n",
      "           1      0.599     0.734     0.659       124\n",
      "           2      0.847     0.477     0.610       151\n",
      "           3      0.333     0.667     0.444         6\n",
      "           4      0.360     1.000     0.529         9\n",
      "           5      0.000     0.000     0.000        15\n",
      "           6      0.833     0.192     0.312        26\n",
      "           7      0.667     0.582     0.621        55\n",
      "           8      0.793     0.535     0.639        86\n",
      "           9      0.286     1.000     0.444         2\n",
      "          10      0.250     0.833     0.385         6\n",
      "\n",
      "    accuracy                          0.945      5250\n",
      "   macro avg      0.540     0.637     0.511      5250\n",
      "weighted avg      0.947     0.945     0.942      5250\n",
      "\n"
     ]
    }
   ],
   "source": [
    "from sklearn_crfsuite import metrics\n",
    "from sklearn.utils import class_weight\n",
    "import numpy as np\n",
    "\n",
    "def checkifAllOut(sentence):\n",
    "    for output in sentence:\n",
    "        if(output!=0):\n",
    "            return True\n",
    "    return False\n",
    "\n",
    "def RemoveOnlyOtherSentences(x_train,y_train):\n",
    "    x_train_final = []\n",
    "    y_train_final = []\n",
    "    for idx, sentence in enumerate(y_train):\n",
    "        if(checkifAllOut(sentence)):\n",
    "            x_train_final.append(x_train[idx])\n",
    "            y_train_final.append(sentence)\n",
    "    return np.array(x_train_final),np.array(y_train_final)\n",
    "\n",
    "unique, counts = np.unique(y_train, return_counts=True)\n",
    "print(unique)\n",
    "print(counts)\n",
    "\n",
    "X_train_new, y_train_new = RemoveOnlyOtherSentences(X_train,y_train)\n",
    "\n",
    "unique, counts = np.unique(y_train_new, return_counts=True)\n",
    "print(unique)\n",
    "print(counts)\n",
    "\n",
    "print(X_train_new.shape)\n",
    "print(y_train_new.shape)\n",
    "\n",
    "model.fit(x=X_train_new, y=y_train_new,validation_split=0.2,batch_size=64,\n",
    "          epochs=3,verbose=0,\n",
    "          callbacks=[TQDMNotebookCallback(leave_inner=True)])\n",
    "y_pred = model.predict(X_test)\n",
    "y_pred = y_pred.argmax(axis=-1)\n",
    "y_pred = np.expand_dims(y_pred, axis=2)\n",
    "print(metrics.flat_classification_report(y_test, y_pred, digits=3))\n"
   ]
  },
  {
   "cell_type": "code",
   "execution_count": null,
   "metadata": {},
   "outputs": [],
   "source": []
  },
  {
   "cell_type": "code",
   "execution_count": 76,
   "metadata": {},
   "outputs": [
    {
     "name": "stdout",
     "output_type": "stream",
     "text": [
      "_________________________________________________________________\n",
      "Layer (type)                 Output Shape              Param #   \n",
      "=================================================================\n",
      "input_3 (InputLayer)         (None, 50)                0         \n",
      "_________________________________________________________________\n",
      "embedding_3 (Embedding)      (None, 50, 64)            1287040   \n",
      "_________________________________________________________________\n",
      "bidirectional_3 (Bidirection (None, 50, 256)           197632    \n",
      "_________________________________________________________________\n",
      "dense_5 (Dense)              (None, 50, 256)           65792     \n",
      "_________________________________________________________________\n",
      "dropout_3 (Dropout)          (None, 50, 256)           0         \n",
      "_________________________________________________________________\n",
      "time_distributed_3 (TimeDist (None, 50, 64)            16448     \n",
      "_________________________________________________________________\n",
      "crf_1 (CRF)                  (None, 50, 11)            858       \n",
      "=================================================================\n",
      "Total params: 1,567,770\n",
      "Trainable params: 1,567,770\n",
      "Non-trainable params: 0\n",
      "_________________________________________________________________\n"
     ]
    }
   ],
   "source": [
    "from keras.models import Model\n",
    "from keras.layers import Dense,TimeDistributed, Input, Embedding,Bidirectional,LSTM,Dropout\n",
    "from keras_contrib.layers import CRF\n",
    "from keras_contrib import losses, metrics\n",
    "from sklearn.utils import class_weight\n",
    "import numpy as np\n",
    "\n",
    "\n",
    "def create_model(voc):\n",
    "    sequence_input = Input(shape=(50,), dtype='int32')\n",
    "    embedded_sequences = Embedding(voc,64, input_length=50)(sequence_input)\n",
    "    bilstm = Bidirectional(LSTM(128, dropout=0.2, recurrent_dropout=0.2, return_sequences=True, return_state=False))(embedded_sequences)\n",
    "    dense = Dense(256)(bilstm)\n",
    "    drop = Dropout(0.2)(dense)\n",
    "    preds = TimeDistributed(Dense(64, activation='relu'))(drop)\n",
    "    crf = CRF(11)\n",
    "    out = crf(preds)\n",
    "    model = Model(inputs=sequence_input, outputs=out)\n",
    "    model.compile(optimizer=\"rmsprop\", loss=losses.crf_loss, metrics=[metrics.crf_accuracy])\n",
    "    model.summary()\n",
    "    return model\n",
    "\n",
    "\n",
    "\n",
    "model = create_model(voc_size)"
   ]
  },
  {
   "cell_type": "code",
   "execution_count": 79,
   "metadata": {},
   "outputs": [
    {
     "name": "stdout",
     "output_type": "stream",
     "text": [
      "(16649, 50, 11)\n"
     ]
    },
    {
     "data": {
      "application/vnd.jupyter.widget-view+json": {
       "model_id": "277223e7a329434086e6ea816e1effd4",
       "version_major": 2,
       "version_minor": 0
      },
      "text/plain": [
       "HBox(children=(IntProgress(value=0, description='Training', max=3, style=ProgressStyle(description_width='init…"
      ]
     },
     "metadata": {},
     "output_type": "display_data"
    },
    {
     "data": {
      "application/vnd.jupyter.widget-view+json": {
       "model_id": "ef39f80a173c4e5c8efa5da7b643275c",
       "version_major": 2,
       "version_minor": 0
      },
      "text/plain": [
       "HBox(children=(IntProgress(value=0, description='Epoch 0', max=13319, style=ProgressStyle(description_width='i…"
      ]
     },
     "metadata": {},
     "output_type": "display_data"
    },
    {
     "data": {
      "application/vnd.jupyter.widget-view+json": {
       "model_id": "ef3fe9d928334850957157ffaaab3f16",
       "version_major": 2,
       "version_minor": 0
      },
      "text/plain": [
       "HBox(children=(IntProgress(value=0, description='Epoch 1', max=13319, style=ProgressStyle(description_width='i…"
      ]
     },
     "metadata": {},
     "output_type": "display_data"
    },
    {
     "data": {
      "application/vnd.jupyter.widget-view+json": {
       "model_id": "550774bda7ce4af8b341b28c44cd0343",
       "version_major": 2,
       "version_minor": 0
      },
      "text/plain": [
       "HBox(children=(IntProgress(value=0, description='Epoch 2', max=13319, style=ProgressStyle(description_width='i…"
      ]
     },
     "metadata": {},
     "output_type": "display_data"
    },
    {
     "name": "stdout",
     "output_type": "stream",
     "text": [
      "              precision    recall  f1-score   support\n",
      "\n",
      "           0      0.973     0.984     0.979      4770\n",
      "           1      0.570     0.726     0.638       124\n",
      "           2      0.852     0.457     0.595       151\n",
      "           3      0.222     0.333     0.267         6\n",
      "           4      0.375     1.000     0.545         9\n",
      "           5      0.000     0.000     0.000        15\n",
      "           6      0.778     0.269     0.400        26\n",
      "           7      0.638     0.545     0.588        55\n",
      "           8      0.733     0.512     0.603        86\n",
      "           9      0.222     1.000     0.364         2\n",
      "          10      0.240     1.000     0.387         6\n",
      "\n",
      "    accuracy                          0.943      5250\n",
      "   macro avg      0.509     0.621     0.488      5250\n",
      "weighted avg      0.946     0.943     0.941      5250\n",
      "\n"
     ]
    }
   ],
   "source": [
    "y_train_input = np.squeeze(y_train_new, axis=2)\n",
    "from keras.utils import to_categorical\n",
    "from sklearn_crfsuite import metrics\n",
    "# One-Hot encode\n",
    "y = [to_categorical(i, num_classes=11) for i in y_train_new]  # n_tags+1(PAD)\n",
    "y = np.array(y)\n",
    "print(y.shape)\n",
    "\n",
    "model.fit(x=X_train_new, y=y,validation_split=0.2,batch_size=64,\n",
    "          epochs=3,verbose=0,\n",
    "          callbacks=[TQDMNotebookCallback(leave_inner=True)])\n",
    "y_pred = model.predict(X_test)\n",
    "y_pred = y_pred.argmax(axis=-1)\n",
    "y_pred = np.expand_dims(y_pred, axis=2)\n",
    "print(metrics.flat_classification_report(y_test, y_pred, digits=3))"
   ]
  },
  {
   "cell_type": "code",
   "execution_count": null,
   "metadata": {},
   "outputs": [],
   "source": []
  }
 ],
 "metadata": {
  "kernelspec": {
   "display_name": "my_lab_env",
   "language": "python",
   "name": "my_lab_env"
  },
  "language_info": {
   "codemirror_mode": {
    "name": "ipython",
    "version": 3
   },
   "file_extension": ".py",
   "mimetype": "text/x-python",
   "name": "python",
   "nbconvert_exporter": "python",
   "pygments_lexer": "ipython3",
   "version": "3.6.3"
  }
 },
 "nbformat": 4,
 "nbformat_minor": 2
}
