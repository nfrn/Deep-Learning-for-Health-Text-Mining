{
 "cells": [
  {
   "cell_type": "markdown",
   "metadata": {},
   "source": [
    "# Named Entity Recognition"
   ]
  },
  {
   "cell_type": "markdown",
   "metadata": {},
   "source": [
    "# Bio-Entity Recognition Task at BioNLP/NLPBA 2004:\n",
    "### Task Definition:\n",
    "The task aims to identify and classify technical terms in the domain of molecular biology that correspond to instances of concepts that are of interest to biologists.\n",
    "### Data:\n",
    "The training data used in the task came from the GENIA version 3.02 corpus, This was formed from a controlled search on MEDLINE using the MeSH terms 'human', 'blood cells' and 'transcription factors'. From this search, 2,000 abstracts were selected and hand annotated according to a small taxonomy of 48 classes based on a chemical classification. Among the classes, 36 terminal classes were used to annotate the GENIA corpus. For the shared task we decided however to simplify the 36 classes and used only the classes protein, DNA, RNA, cell line and cell type."
   ]
  },
  {
   "cell_type": "markdown",
   "metadata": {},
   "source": [
    "### File Visualization:\n"
   ]
  },
  {
   "cell_type": "code",
   "execution_count": 1,
   "metadata": {
    "scrolled": false
   },
   "outputs": [
    {
     "data": {
      "text/html": [
       "<style  type=\"text/css\" >\n",
       "</style>  \n",
       "<table id=\"T_82f9cbb0_9e32_11e9_9f1f_b05adad52aa1\" style='display:inline'><caption>Entities Distribution</caption> \n",
       "<thead>    <tr> \n",
       "        <th class=\"blank level0\" ></th> \n",
       "        <th class=\"col_heading level0 col0\" >Tokens</th> \n",
       "        <th class=\"col_heading level0 col1\" >Entity</th> \n",
       "    </tr></thead> \n",
       "<tbody>    <tr> \n",
       "        <th id=\"T_82f9cbb0_9e32_11e9_9f1f_b05adad52aa1level0_row0\" class=\"row_heading level0 row0\" >0</th> \n",
       "        <td id=\"T_82f9cbb0_9e32_11e9_9f1f_b05adad52aa1row0_col0\" class=\"data row0 col0\" >IL-2</td> \n",
       "        <td id=\"T_82f9cbb0_9e32_11e9_9f1f_b05adad52aa1row0_col1\" class=\"data row0 col1\" >B-DNA</td> \n",
       "    </tr>    <tr> \n",
       "        <th id=\"T_82f9cbb0_9e32_11e9_9f1f_b05adad52aa1level0_row1\" class=\"row_heading level0 row1\" >1</th> \n",
       "        <td id=\"T_82f9cbb0_9e32_11e9_9f1f_b05adad52aa1row1_col0\" class=\"data row1 col0\" >gene</td> \n",
       "        <td id=\"T_82f9cbb0_9e32_11e9_9f1f_b05adad52aa1row1_col1\" class=\"data row1 col1\" >I-DNA</td> \n",
       "    </tr>    <tr> \n",
       "        <th id=\"T_82f9cbb0_9e32_11e9_9f1f_b05adad52aa1level0_row2\" class=\"row_heading level0 row2\" >2</th> \n",
       "        <td id=\"T_82f9cbb0_9e32_11e9_9f1f_b05adad52aa1row2_col0\" class=\"data row2 col0\" >expression</td> \n",
       "        <td id=\"T_82f9cbb0_9e32_11e9_9f1f_b05adad52aa1row2_col1\" class=\"data row2 col1\" >O</td> \n",
       "    </tr>    <tr> \n",
       "        <th id=\"T_82f9cbb0_9e32_11e9_9f1f_b05adad52aa1level0_row3\" class=\"row_heading level0 row3\" >3</th> \n",
       "        <td id=\"T_82f9cbb0_9e32_11e9_9f1f_b05adad52aa1row3_col0\" class=\"data row3 col0\" >and</td> \n",
       "        <td id=\"T_82f9cbb0_9e32_11e9_9f1f_b05adad52aa1row3_col1\" class=\"data row3 col1\" >O</td> \n",
       "    </tr>    <tr> \n",
       "        <th id=\"T_82f9cbb0_9e32_11e9_9f1f_b05adad52aa1level0_row4\" class=\"row_heading level0 row4\" >4</th> \n",
       "        <td id=\"T_82f9cbb0_9e32_11e9_9f1f_b05adad52aa1row4_col0\" class=\"data row4 col0\" >NF-kappa</td> \n",
       "        <td id=\"T_82f9cbb0_9e32_11e9_9f1f_b05adad52aa1row4_col1\" class=\"data row4 col1\" >B-protein</td> \n",
       "    </tr>    <tr> \n",
       "        <th id=\"T_82f9cbb0_9e32_11e9_9f1f_b05adad52aa1level0_row5\" class=\"row_heading level0 row5\" >5</th> \n",
       "        <td id=\"T_82f9cbb0_9e32_11e9_9f1f_b05adad52aa1row5_col0\" class=\"data row5 col0\" >B</td> \n",
       "        <td id=\"T_82f9cbb0_9e32_11e9_9f1f_b05adad52aa1row5_col1\" class=\"data row5 col1\" >I-protein</td> \n",
       "    </tr>    <tr> \n",
       "        <th id=\"T_82f9cbb0_9e32_11e9_9f1f_b05adad52aa1level0_row6\" class=\"row_heading level0 row6\" >6</th> \n",
       "        <td id=\"T_82f9cbb0_9e32_11e9_9f1f_b05adad52aa1row6_col0\" class=\"data row6 col0\" >activation</td> \n",
       "        <td id=\"T_82f9cbb0_9e32_11e9_9f1f_b05adad52aa1row6_col1\" class=\"data row6 col1\" >O</td> \n",
       "    </tr>    <tr> \n",
       "        <th id=\"T_82f9cbb0_9e32_11e9_9f1f_b05adad52aa1level0_row7\" class=\"row_heading level0 row7\" >7</th> \n",
       "        <td id=\"T_82f9cbb0_9e32_11e9_9f1f_b05adad52aa1row7_col0\" class=\"data row7 col0\" >through</td> \n",
       "        <td id=\"T_82f9cbb0_9e32_11e9_9f1f_b05adad52aa1row7_col1\" class=\"data row7 col1\" >O</td> \n",
       "    </tr>    <tr> \n",
       "        <th id=\"T_82f9cbb0_9e32_11e9_9f1f_b05adad52aa1level0_row8\" class=\"row_heading level0 row8\" >8</th> \n",
       "        <td id=\"T_82f9cbb0_9e32_11e9_9f1f_b05adad52aa1row8_col0\" class=\"data row8 col0\" >CD28</td> \n",
       "        <td id=\"T_82f9cbb0_9e32_11e9_9f1f_b05adad52aa1row8_col1\" class=\"data row8 col1\" >B-protein</td> \n",
       "    </tr>    <tr> \n",
       "        <th id=\"T_82f9cbb0_9e32_11e9_9f1f_b05adad52aa1level0_row9\" class=\"row_heading level0 row9\" >9</th> \n",
       "        <td id=\"T_82f9cbb0_9e32_11e9_9f1f_b05adad52aa1row9_col0\" class=\"data row9 col0\" >requires</td> \n",
       "        <td id=\"T_82f9cbb0_9e32_11e9_9f1f_b05adad52aa1row9_col1\" class=\"data row9 col1\" >O</td> \n",
       "    </tr>    <tr> \n",
       "        <th id=\"T_82f9cbb0_9e32_11e9_9f1f_b05adad52aa1level0_row10\" class=\"row_heading level0 row10\" >10</th> \n",
       "        <td id=\"T_82f9cbb0_9e32_11e9_9f1f_b05adad52aa1row10_col0\" class=\"data row10 col0\" >reactive</td> \n",
       "        <td id=\"T_82f9cbb0_9e32_11e9_9f1f_b05adad52aa1row10_col1\" class=\"data row10 col1\" >O</td> \n",
       "    </tr>    <tr> \n",
       "        <th id=\"T_82f9cbb0_9e32_11e9_9f1f_b05adad52aa1level0_row11\" class=\"row_heading level0 row11\" >11</th> \n",
       "        <td id=\"T_82f9cbb0_9e32_11e9_9f1f_b05adad52aa1row11_col0\" class=\"data row11 col0\" >oxygen</td> \n",
       "        <td id=\"T_82f9cbb0_9e32_11e9_9f1f_b05adad52aa1row11_col1\" class=\"data row11 col1\" >O</td> \n",
       "    </tr>    <tr> \n",
       "        <th id=\"T_82f9cbb0_9e32_11e9_9f1f_b05adad52aa1level0_row12\" class=\"row_heading level0 row12\" >12</th> \n",
       "        <td id=\"T_82f9cbb0_9e32_11e9_9f1f_b05adad52aa1row12_col0\" class=\"data row12 col0\" >production</td> \n",
       "        <td id=\"T_82f9cbb0_9e32_11e9_9f1f_b05adad52aa1row12_col1\" class=\"data row12 col1\" >O</td> \n",
       "    </tr>    <tr> \n",
       "        <th id=\"T_82f9cbb0_9e32_11e9_9f1f_b05adad52aa1level0_row13\" class=\"row_heading level0 row13\" >13</th> \n",
       "        <td id=\"T_82f9cbb0_9e32_11e9_9f1f_b05adad52aa1row13_col0\" class=\"data row13 col0\" >by</td> \n",
       "        <td id=\"T_82f9cbb0_9e32_11e9_9f1f_b05adad52aa1row13_col1\" class=\"data row13 col1\" >O</td> \n",
       "    </tr>    <tr> \n",
       "        <th id=\"T_82f9cbb0_9e32_11e9_9f1f_b05adad52aa1level0_row14\" class=\"row_heading level0 row14\" >14</th> \n",
       "        <td id=\"T_82f9cbb0_9e32_11e9_9f1f_b05adad52aa1row14_col0\" class=\"data row14 col0\" >5-lipoxygenase</td> \n",
       "        <td id=\"T_82f9cbb0_9e32_11e9_9f1f_b05adad52aa1row14_col1\" class=\"data row14 col1\" >B-protein</td> \n",
       "    </tr>    <tr> \n",
       "        <th id=\"T_82f9cbb0_9e32_11e9_9f1f_b05adad52aa1level0_row15\" class=\"row_heading level0 row15\" >15</th> \n",
       "        <td id=\"T_82f9cbb0_9e32_11e9_9f1f_b05adad52aa1row15_col0\" class=\"data row15 col0\" >.</td> \n",
       "        <td id=\"T_82f9cbb0_9e32_11e9_9f1f_b05adad52aa1row15_col1\" class=\"data row15 col1\" >O</td> \n",
       "    </tr></tbody> \n",
       "</table> "
      ]
     },
     "metadata": {},
     "output_type": "display_data"
    }
   ],
   "source": [
    "import pandas as pd\n",
    "from IPython.display import display_html\n",
    "\n",
    "#Try to change this variable value\n",
    "sentence_to_visualize = 0\n",
    "\n",
    "with open(\"./BetterDataset/data.train\", 'rb') as file_handle:\n",
    "    file_content = file_handle.read().decode('utf-8').strip()\n",
    "    annotated_sentences = file_content.split('\\n\\n')\n",
    "    sentence = annotated_sentences[sentence_to_visualize]\n",
    "    sentence = sentence.split()\n",
    "    sentence = [sentence[i:i + 2] for i in range(0, len(sentence), 2)]\n",
    "    cols=['Tokens','Entity']\n",
    "    df2 = pd.DataFrame(sentence, columns=cols)\n",
    "    df2_styler = df2.reset_index(drop=True).style.set_table_attributes(\"style='display:inline'\").set_caption('Entities Distribution')\n",
    "    display_html(df2_styler._repr_html_(), raw=True)"
   ]
  },
  {
   "cell_type": "markdown",
   "metadata": {},
   "source": [
    "# Task:1 Prepare the dataset for the model\n",
    "### Read data from a ConLL file:"
   ]
  },
  {
   "cell_type": "code",
   "execution_count": 2,
   "metadata": {},
   "outputs": [
    {
     "name": "stdout",
     "output_type": "stream",
     "text": [
      "[['IL-2', 'B-DNA'], ['gene', 'I-DNA'], ['expression', 'O'], ['and', 'O'], ['NF-kappa', 'B-protein'], ['B', 'I-protein'], ['activation', 'O'], ['through', 'O'], ['CD28', 'B-protein'], ['requires', 'O'], ['reactive', 'O'], ['oxygen', 'O'], ['production', 'O'], ['by', 'O'], ['5-lipoxygenase', 'B-protein'], ['.', 'O']]\n"
     ]
    }
   ],
   "source": [
    "import os\n",
    "def read_conll(filename_end):\n",
    "    word_pos = 0\n",
    "    pos_pos= None\n",
    "    iob_pos = 3\n",
    "    sep = '\\t'\n",
    "    IOB= 'IOB2'\n",
    "    corpus_root=\"./BetterDataset\"\n",
    "\n",
    "    for root, dirs, files in os.walk(corpus_root):\n",
    "        for filename in files:\n",
    "            if filename.endswith(filename_end):\n",
    "                with open(os.path.join(root, filename), 'rb') as file_handle:\n",
    "                    try:\n",
    "                        file_content = file_handle.read().decode('utf-8').strip()\n",
    "                    except:\n",
    "                        raise ValueError(\"Can't process!\")\n",
    "                    \n",
    "                    annotated_sentences = file_content.split('\\n\\n')\n",
    "                    for annotated_sentence in annotated_sentences:\n",
    "                        annotated_tokens = [seq for seq in annotated_sentence.split('\\n')]\n",
    "                        all_tokens = []\n",
    "                        #print(annotated_tokens)\n",
    "                        for annotation in annotated_tokens:\n",
    "                            conll_tokens = annotation.split(sep)\n",
    "                            #print(conll_tokens)\n",
    "                            all_tokens.append(conll_tokens)\n",
    "                        yield all_tokens\n",
    "                            \n",
    "                            \n",
    "data_train = list(read_conll('.train'))\n",
    "data_test = list(read_conll('.test'))\n",
    "\n",
    "#We can visualize the input for each sentence:\n",
    "print(data_train[0])"
   ]
  },
  {
   "cell_type": "markdown",
   "metadata": {},
   "source": [
    "### Dataset Statistics:"
   ]
  },
  {
   "cell_type": "code",
   "execution_count": 3,
   "metadata": {},
   "outputs": [
    {
     "data": {
      "image/png": "[encoded data removed]",
      "text/plain": [
       "<Figure size 1296x360 with 1 Axes>"
      ]
     },
     "metadata": {
      "needs_background": "light"
     },
     "output_type": "display_data"
    },
    {
     "data": {
      "image/png": "[encoded data removed]",
      "text/plain": [
       "<Figure size 1296x360 with 1 Axes>"
      ]
     },
     "metadata": {
      "needs_background": "light"
     },
     "output_type": "display_data"
    },
    {
     "data": {
      "image/png": "[encoded data removed]",
      "text/plain": [
       "<Figure size 1296x360 with 1 Axes>"
      ]
     },
     "metadata": {
      "needs_background": "light"
     },
     "output_type": "display_data"
    }
   ],
   "source": [
    "import numpy as np\n",
    "import matplotlib.pyplot as plt\n",
    "def visualizeClassImbalance(data):\n",
    "    # View the class count distribution\n",
    "    array = np.array(data)\n",
    "    \n",
    "    dic={\"O\":0,\"B-protein\":0,\"I-protein\":0,\"B-DNA\":0, \"I-DNA\":0, \"B-RNA\":0, \"I-RNA\":0,\n",
    "         \"B-cell_type\":0,\"I-cell_type\":0, \"B-cell_line\":0, \"I-cell_line\":0}\n",
    "    for sub_array in array:\n",
    "        for sub_sub_array in sub_array:\n",
    "            dic[sub_sub_array[1]]=dic.get(sub_sub_array[1])+1\n",
    "    f, ax = plt.subplots(figsize=(18,5)) \n",
    "    plt.bar(dic.keys(), dic.values(),width=0.5, color='C0')\n",
    "    plt.title(\"Number of instances per label\")\n",
    "    plt.ylabel('# of Occurrences', fontsize=12)\n",
    "    plt.xlabel('Label', fontsize=12)\n",
    "    plt.show()\n",
    "    \n",
    "    dic={\"B-protein\":0,\"I-protein\":0,\"B-DNA\":0, \"I-DNA\":0, \"B-RNA\":0, \"I-RNA\":0,\n",
    "         \"B-cell_type\":0,\"I-cell_type\":0, \"B-cell_line\":0, \"I-cell_line\":0}\n",
    "    for sub_array in array:\n",
    "        for sub_sub_array in sub_array:\n",
    "            if sub_sub_array[1] in dic:\n",
    "                dic[sub_sub_array[1]]=dic.get(sub_sub_array[1])+1\n",
    "    f, ax = plt.subplots(figsize=(18,5)) \n",
    "    plt.bar(dic.keys(), dic.values(),width=0.5, color='C0')\n",
    "    plt.title(\"Number of instances per label\")\n",
    "    plt.ylabel('# of Occurrences', fontsize=12)\n",
    "    plt.xlabel('Label', fontsize=12)\n",
    "    plt.show()\n",
    "    \n",
    "    dic={\"protein\":0,\"DNA\":0,\"RNA\":0,\"cell_type\":0,\"cell_line\":0}\n",
    "    for sub_array in array:\n",
    "        for sub_sub_array in sub_array:\n",
    "            if sub_sub_array[1][2:] in dic:\n",
    "                dic[sub_sub_array[1][2:]]=dic.get(sub_sub_array[1][2:])+1\n",
    "    f, ax = plt.subplots(figsize=(18,5)) \n",
    "    plt.bar(dic.keys(), dic.values(),width=0.5, color='C0')\n",
    "    plt.title(\"Number of instances per label\")\n",
    "    plt.ylabel('# of Occurrences', fontsize=12)\n",
    "    plt.xlabel('Label', fontsize=12)\n",
    "    plt.show()\n",
    "\n",
    "\n",
    "\n",
    "data_train = list(read_conll('.train'))\n",
    "data_test = list(read_conll('.test'))\n",
    "\n",
    "visualizeClassImbalance(data_train)\n"
   ]
  },
  {
   "cell_type": "markdown",
   "metadata": {},
   "source": [
    "### Merge sentence and label vectors:"
   ]
  },
  {
   "cell_type": "code",
   "execution_count": 4,
   "metadata": {},
   "outputs": [
    {
     "name": "stdout",
     "output_type": "stream",
     "text": [
      "['IL-2', 'gene', 'expression', 'and', 'NF-kappa', 'B', 'activation', 'through', 'CD28', 'requires', 'reactive', 'oxygen', 'production', 'by', '5-lipoxygenase', '.']\n",
      "['B-DNA', 'I-DNA', 'O', 'O', 'B-protein', 'I-protein', 'O', 'O', 'B-protein', 'O', 'O', 'O', 'O', 'O', 'B-protein', 'O']\n"
     ]
    }
   ],
   "source": [
    "def transform(data):\n",
    "    sentences_array=[]\n",
    "    labels_array=[]\n",
    "    for data_input in data:\n",
    "        sentence=[]\n",
    "        labels=[]\n",
    "        for vec in data_input:\n",
    "            sentence.append(vec[0])\n",
    "            labels.append(vec[1])\n",
    "        sentences_array.append(sentence)\n",
    "        labels_array.append(labels)\n",
    "\n",
    "    return sentences_array,labels_array\n",
    "\n",
    "sentences_train, labels_train = transform(data_train)\n",
    "sentences_test, labels_test = transform(data_test)\n",
    "\n",
    "#We can visualize the input for each sentence:\n",
    "print(sentences_train[0])\n",
    "print(labels_train[0])"
   ]
  },
  {
   "cell_type": "markdown",
   "metadata": {},
   "source": [
    "### Convert Labels to Numeric Values:"
   ]
  },
  {
   "cell_type": "code",
   "execution_count": 5,
   "metadata": {},
   "outputs": [
    {
     "name": "stdout",
     "output_type": "stream",
     "text": [
      "(18546,)\n",
      "(105,)\n",
      "[3, 4, 0, 0, 1, 2, 0, 0, 1, 0, 0, 0, 0, 0, 1, 0]\n",
      "[0, 0, 0, 0, 0, 0, 1, 2, 0, 1, 2, 2, 0, 1, 0, 0, 1, 0, 0, 0, 0, 7, 8, 8, 8, 0, 0, 0, 0, 0, 0, 0, 0]\n"
     ]
    }
   ],
   "source": [
    "import numpy as np\n",
    "def convert(labels_array):\n",
    "    labels_array_changed = np.copy(labels_array)\n",
    "    for idx,label_vec in enumerate(labels_array_changed):\n",
    "        for idx,label in enumerate(label_vec):\n",
    "            if label==\"O\":\n",
    "                label_vec[idx]=0\n",
    "            if label==\"B-protein\":\n",
    "                label_vec[idx]=1\n",
    "            if label==\"I-protein\":\n",
    "                label_vec[idx]=2\n",
    "            if label==\"B-DNA\":\n",
    "                label_vec[idx]=3\n",
    "            if label==\"I-DNA\":\n",
    "                label_vec[idx]=4\n",
    "            if label==\"B-RNA\":\n",
    "                label_vec[idx]=5\n",
    "            if label==\"I-RNA\":\n",
    "                label_vec[idx]=6\n",
    "            if label==\"B-cell_type\":\n",
    "                label_vec[idx]=7\n",
    "            if label==\"I-cell_type\":\n",
    "                label_vec[idx]=8\n",
    "            if label==\"B-cell_line\":\n",
    "                label_vec[idx]=9\n",
    "            if label==\"I-cell_line\":\n",
    "                label_vec[idx]=10\n",
    "    return labels_array_changed\n",
    "\n",
    "labels_train_transformed = convert(labels_train)\n",
    "labels_test_transformed = convert(labels_test)\n",
    "print(labels_train_transformed.shape)\n",
    "print(labels_test_transformed.shape)\n",
    "print(labels_train_transformed[0])\n",
    "print(labels_test_transformed[0])"
   ]
  },
  {
   "cell_type": "markdown",
   "metadata": {},
   "source": [
    "### Optional to convert to one-hot encoding :"
   ]
  },
  {
   "cell_type": "code",
   "execution_count": 6,
   "metadata": {},
   "outputs": [
    {
     "name": "stderr",
     "output_type": "stream",
     "text": [
      "Using TensorFlow backend.\n"
     ]
    },
    {
     "name": "stdout",
     "output_type": "stream",
     "text": [
      "[3, 4, 0, 0, 1, 2, 0, 0, 1, 0, 0, 0, 0, 0, 1, 0]\n",
      "(18546,)\n",
      "[[0. 0. 0. 1. 0. 0. 0. 0. 0. 0. 0.]\n",
      " [0. 0. 0. 0. 1. 0. 0. 0. 0. 0. 0.]\n",
      " [1. 0. 0. 0. 0. 0. 0. 0. 0. 0. 0.]\n",
      " [1. 0. 0. 0. 0. 0. 0. 0. 0. 0. 0.]\n",
      " [0. 1. 0. 0. 0. 0. 0. 0. 0. 0. 0.]\n",
      " [0. 0. 1. 0. 0. 0. 0. 0. 0. 0. 0.]\n",
      " [1. 0. 0. 0. 0. 0. 0. 0. 0. 0. 0.]\n",
      " [1. 0. 0. 0. 0. 0. 0. 0. 0. 0. 0.]\n",
      " [0. 1. 0. 0. 0. 0. 0. 0. 0. 0. 0.]\n",
      " [1. 0. 0. 0. 0. 0. 0. 0. 0. 0. 0.]\n",
      " [1. 0. 0. 0. 0. 0. 0. 0. 0. 0. 0.]\n",
      " [1. 0. 0. 0. 0. 0. 0. 0. 0. 0. 0.]\n",
      " [1. 0. 0. 0. 0. 0. 0. 0. 0. 0. 0.]\n",
      " [1. 0. 0. 0. 0. 0. 0. 0. 0. 0. 0.]\n",
      " [0. 1. 0. 0. 0. 0. 0. 0. 0. 0. 0.]\n",
      " [1. 0. 0. 0. 0. 0. 0. 0. 0. 0. 0.]]\n"
     ]
    }
   ],
   "source": [
    "import keras\n",
    "def to_categorical(labels_array):\n",
    "    print(labels_array.shape)\n",
    "    labels_train_changed = np.copy(labels_array)\n",
    "    for idx,label_vec in enumerate(labels_train_changed):\n",
    "        label_vec = keras.utils.to_categorical(label_vec, num_classes=11, dtype='float32')\n",
    "        labels_train_changed[idx]=label_vec\n",
    "    return labels_train_changed\n",
    "\n",
    "print(labels_train_transformed[0])\n",
    "example = to_categorical(labels_train_transformed)\n",
    "print(example[0])"
   ]
  },
  {
   "cell_type": "markdown",
   "metadata": {},
   "source": [
    "### Visualize Reports length:"
   ]
  },
  {
   "cell_type": "code",
   "execution_count": 7,
   "metadata": {},
   "outputs": [
    {
     "data": {
      "image/png": "[encoded data removed]",
      "text/plain": [
       "<Figure size 432x288 with 1 Axes>"
      ]
     },
     "metadata": {
      "needs_background": "light"
     },
     "output_type": "display_data"
    }
   ],
   "source": [
    "import matplotlib.pyplot as plt\n",
    "import pandas as pd\n",
    "import numpy as np\n",
    "from matplotlib.ticker import FuncFormatter\n",
    "tlen = [len(x) for x in sentences_train] \n",
    "fig, ax = plt.subplots()\n",
    "plt.hist(tlen, bins=np.arange(max(tlen)), histtype='barstacked', linewidth=2)\n",
    "plt.title(\"Length of reports\")\n",
    "plt.ylabel('# of Instances', fontsize=12)\n",
    "plt.xlabel('Length of reports', fontsize=12)\n",
    "plt.show()"
   ]
  },
  {
   "cell_type": "markdown",
   "metadata": {},
   "source": [
    "### Padding to Input Shape:"
   ]
  },
  {
   "cell_type": "code",
   "execution_count": 8,
   "metadata": {},
   "outputs": [
    {
     "name": "stdout",
     "output_type": "stream",
     "text": [
      "Input Shapes:\n",
      "(18546, 50)\n",
      "(105, 50)\n",
      "Target Shapes:\n",
      "(18546, 50, 1)\n",
      "(105, 50, 1)\n"
     ]
    }
   ],
   "source": [
    "from keras.preprocessing.text import Tokenizer\n",
    "from keras.preprocessing.sequence import pad_sequences\n",
    "import numpy as np\n",
    "\n",
    "\n",
    "tokenizer = Tokenizer()\n",
    "tokenizer.fit_on_texts(sentences_train)\n",
    "tokenizer.fit_on_texts(sentences_test)\n",
    "voc_size = len(tokenizer.word_index)+1\n",
    "\n",
    "def convert2(x,y):\n",
    "    X_total = tokenizer.texts_to_sequences(x)\n",
    "    X_total = pad_sequences(X_total, maxlen=50, padding='post')\n",
    "    Y_total = pad_sequences(y, maxlen=50, padding='post', value=0)\n",
    "    return X_total,Y_total\n",
    "\n",
    "X_train, y_train = convert2(sentences_train, labels_train_transformed)\n",
    "X_test, y_test = convert2(sentences_test, labels_test_transformed)\n",
    "\n",
    "print(\"Input Shapes:\")\n",
    "print(X_train.shape)\n",
    "print(X_test.shape)\n",
    "\n",
    "print(\"Target Shapes:\")\n",
    "y_train = np.expand_dims(y_train, axis=2)\n",
    "print(y_train.shape)\n",
    "y_test = np.expand_dims(y_test, axis=2)\n",
    "print(y_test.shape)"
   ]
  },
  {
   "cell_type": "markdown",
   "metadata": {},
   "source": [
    "### Metric Evaluation:"
   ]
  },
  {
   "cell_type": "code",
   "execution_count": 9,
   "metadata": {},
   "outputs": [],
   "source": [
    "from tensorflow.python.ops import math_ops\n",
    "from tensorflow.python.framework import ops\n",
    "from tensorflow.python.keras import backend as K\n",
    "from tensorflow.python.ops import array_ops\n",
    "def new_sparse_categorical_accuracy(y_true, y_pred):\n",
    "        y_pred_rank = ops.convert_to_tensor(y_pred).get_shape().ndims\n",
    "        y_true_rank = ops.convert_to_tensor(y_true).get_shape().ndims\n",
    "        # If the shape of y_true is (num_samples, 1), squeeze to (num_samples,)\n",
    "        if (y_true_rank is not None) and (y_pred_rank is not None) and (len(K.int_shape(y_true)) == len(K.int_shape(y_pred))):\n",
    "            y_true = array_ops.squeeze(y_true, [-1])\n",
    "        y_pred = math_ops.argmax(y_pred, axis=-1)\n",
    "        # If the predicted output and actual output types don't match, force cast them\n",
    "        # to match.\n",
    "        if K.dtype(y_pred) != K.dtype(y_true):\n",
    "            y_pred = math_ops.cast(y_pred, K.dtype(y_true))\n",
    "        return math_ops.cast(math_ops.equal(y_true, y_pred), K.floatx())"
   ]
  },
  {
   "cell_type": "markdown",
   "metadata": {},
   "source": [
    "# Attempt 1:\n",
    "### Create Model:"
   ]
  },
  {
   "cell_type": "code",
   "execution_count": 10,
   "metadata": {},
   "outputs": [
    {
     "name": "stdout",
     "output_type": "stream",
     "text": [
      "_________________________________________________________________\n",
      "Layer (type)                 Output Shape              Param #   \n",
      "=================================================================\n",
      "input_1 (InputLayer)         (None, 50)                0         \n",
      "_________________________________________________________________\n",
      "embedding_1 (Embedding)      (None, 50, 32)            643520    \n",
      "_________________________________________________________________\n",
      "bidirectional_1 (Bidirection (None, 50, 256)           164864    \n",
      "_________________________________________________________________\n",
      "dense_1 (Dense)              (None, 50, 256)           65792     \n",
      "_________________________________________________________________\n",
      "dropout_1 (Dropout)          (None, 50, 256)           0         \n",
      "_________________________________________________________________\n",
      "time_distributed_1 (TimeDist (None, 50, 11)            2827      \n",
      "=================================================================\n",
      "Total params: 877,003\n",
      "Trainable params: 877,003\n",
      "Non-trainable params: 0\n",
      "_________________________________________________________________\n"
     ]
    }
   ],
   "source": [
    "from keras.models import Model\n",
    "from keras.layers import Dense,TimeDistributed, Input, Embedding,Bidirectional,LSTM,Dropout\n",
    "from sklearn.utils import class_weight\n",
    "import numpy as np\n",
    "\n",
    "def create_model(voc):\n",
    "    sequence_input = Input(shape=(50,), dtype='int32')\n",
    "    embedded_sequences = Embedding(voc, 32, input_length=50)(sequence_input)\n",
    "    bilstm = Bidirectional(LSTM(128, dropout=0.2, recurrent_dropout=0.2, return_sequences=True, return_state=False))(embedded_sequences)\n",
    "    dense = Dense(256)(bilstm)\n",
    "    drop = Dropout(0.2)(dense)\n",
    "    preds = TimeDistributed(Dense(11, activation='softmax'))(drop)\n",
    "    model = Model(inputs=sequence_input, outputs=preds)\n",
    "\n",
    "    model.compile(loss='sparse_categorical_crossentropy', optimizer='adam', metrics=[new_sparse_categorical_accuracy])\n",
    "    model.summary()\n",
    "    return model\n",
    "\n",
    "model = create_model(voc_size)"
   ]
  },
  {
   "cell_type": "markdown",
   "metadata": {},
   "source": [
    "### Train:"
   ]
  },
  {
   "cell_type": "code",
   "execution_count": 11,
   "metadata": {},
   "outputs": [
    {
     "data": {
      "application/vnd.jupyter.widget-view+json": {
       "model_id": "d083c38963f644a9846f906005dcc29e",
       "version_major": 2,
       "version_minor": 0
      },
      "text/plain": [
       "HBox(children=(IntProgress(value=0, description='Training', max=3, style=ProgressStyle(description_width='init…"
      ]
     },
     "metadata": {},
     "output_type": "display_data"
    },
    {
     "data": {
      "application/vnd.jupyter.widget-view+json": {
       "model_id": "06f92de07b1d4721af2d7c8c50f00abd",
       "version_major": 2,
       "version_minor": 0
      },
      "text/plain": [
       "HBox(children=(IntProgress(value=0, description='Epoch 0', max=14836, style=ProgressStyle(description_width='i…"
      ]
     },
     "metadata": {},
     "output_type": "display_data"
    },
    {
     "data": {
      "application/vnd.jupyter.widget-view+json": {
       "model_id": "1f4897b24b434e71adb324e5f0bc34fe",
       "version_major": 2,
       "version_minor": 0
      },
      "text/plain": [
       "HBox(children=(IntProgress(value=0, description='Epoch 1', max=14836, style=ProgressStyle(description_width='i…"
      ]
     },
     "metadata": {},
     "output_type": "display_data"
    },
    {
     "data": {
      "application/vnd.jupyter.widget-view+json": {
       "model_id": "1040edb085b84b7fbf2c39a72f9bab68",
       "version_major": 2,
       "version_minor": 0
      },
      "text/plain": [
       "HBox(children=(IntProgress(value=0, description='Epoch 2', max=14836, style=ProgressStyle(description_width='i…"
      ]
     },
     "metadata": {},
     "output_type": "display_data"
    },
    {
     "name": "stdout",
     "output_type": "stream",
     "text": [
      "\n",
      "              precision    recall  f1-score   support\n",
      "\n",
      "           0      0.972     0.980     0.976      4770\n",
      "           1      0.529     0.726     0.612       124\n",
      "           2      0.734     0.457     0.563       151\n",
      "           3      0.308     0.667     0.421         6\n",
      "           4      0.360     1.000     0.529         9\n",
      "           5      0.000     0.000     0.000        15\n",
      "           6      0.857     0.231     0.364        26\n",
      "           7      0.711     0.582     0.640        55\n",
      "           8      0.836     0.593     0.694        86\n",
      "           9      0.400     1.000     0.571         2\n",
      "          10      0.353     1.000     0.522         6\n",
      "\n",
      "    accuracy                          0.942      5250\n",
      "   macro avg      0.551     0.658     0.536      5250\n",
      "weighted avg      0.944     0.942     0.940      5250\n",
      "\n"
     ]
    }
   ],
   "source": [
    "from keras_tqdm import TQDMNotebookCallback\n",
    "from sklearn_crfsuite import metrics\n",
    "\n",
    "model.fit(x=X_train, y=y_train,validation_split=0.2,batch_size=32, epochs=3,verbose=0, callbacks=[TQDMNotebookCallback(leave_inner=True)])\n",
    "y_pred = model.predict(X_test)\n",
    "y_pred = y_pred.argmax(axis=-1)\n",
    "y_pred = np.expand_dims(y_pred, axis=2)\n",
    "print(metrics.flat_classification_report(y_test, y_pred, digits=3))\n",
    "\n"
   ]
  },
  {
   "cell_type": "markdown",
   "metadata": {},
   "source": [
    "### Train2:"
   ]
  },
  {
   "cell_type": "code",
   "execution_count": 12,
   "metadata": {},
   "outputs": [
    {
     "name": "stdout",
     "output_type": "stream",
     "text": [
      "[ 0  1  2  3  4  5  6  7  8  9 10]\n",
      "[819129  29916  24538   9399  15547    926   1493   6630   8645   3775\n",
      "   7302]\n",
      "[ 0  1  2  3  4  5  6  7  8  9 10]\n",
      "[724279  29916  24538   9399  15547    926   1493   6630   8645   3775\n",
      "   7302]\n",
      "(16649, 50)\n",
      "(16649, 50, 1)\n"
     ]
    },
    {
     "data": {
      "application/vnd.jupyter.widget-view+json": {
       "model_id": "0559ae88d8a64d50bbdd820bc310cb2d",
       "version_major": 2,
       "version_minor": 0
      },
      "text/plain": [
       "HBox(children=(IntProgress(value=0, description='Training', max=3, style=ProgressStyle(description_width='init…"
      ]
     },
     "metadata": {},
     "output_type": "display_data"
    },
    {
     "data": {
      "application/vnd.jupyter.widget-view+json": {
       "model_id": "7b14b048f6e94132b11a7f3e51ee83d1",
       "version_major": 2,
       "version_minor": 0
      },
      "text/plain": [
       "HBox(children=(IntProgress(value=0, description='Epoch 0', max=13319, style=ProgressStyle(description_width='i…"
      ]
     },
     "metadata": {},
     "output_type": "display_data"
    },
    {
     "data": {
      "application/vnd.jupyter.widget-view+json": {
       "model_id": "8986d0124a5d4320890371ce69bb17ac",
       "version_major": 2,
       "version_minor": 0
      },
      "text/plain": [
       "HBox(children=(IntProgress(value=0, description='Epoch 1', max=13319, style=ProgressStyle(description_width='i…"
      ]
     },
     "metadata": {},
     "output_type": "display_data"
    },
    {
     "data": {
      "application/vnd.jupyter.widget-view+json": {
       "model_id": "7160576e8c4b4db7b06b8b6bbbed029c",
       "version_major": 2,
       "version_minor": 0
      },
      "text/plain": [
       "HBox(children=(IntProgress(value=0, description='Epoch 2', max=13319, style=ProgressStyle(description_width='i…"
      ]
     },
     "metadata": {},
     "output_type": "display_data"
    },
    {
     "name": "stdout",
     "output_type": "stream",
     "text": [
      "\n",
      "              precision    recall  f1-score   support\n",
      "\n",
      "           0      0.970     0.983     0.976      4770\n",
      "           1      0.592     0.702     0.642       124\n",
      "           2      0.793     0.430     0.558       151\n",
      "           3      0.300     0.500     0.375         6\n",
      "           4      0.333     1.000     0.500         9\n",
      "           5      0.000     0.000     0.000        15\n",
      "           6      0.714     0.192     0.303        26\n",
      "           7      0.681     0.582     0.627        55\n",
      "           8      0.769     0.581     0.662        86\n",
      "           9      0.333     1.000     0.500         2\n",
      "          10      0.300     1.000     0.462         6\n",
      "\n",
      "    accuracy                          0.942      5250\n",
      "   macro avg      0.526     0.634     0.510      5250\n",
      "weighted avg      0.942     0.942     0.939      5250\n",
      "\n"
     ]
    }
   ],
   "source": [
    "from sklearn_crfsuite import metrics\n",
    "from sklearn.utils import class_weight\n",
    "import numpy as np\n",
    "\n",
    "def checkifAllOut(sentence):\n",
    "    for output in sentence:\n",
    "        if(output!=0):\n",
    "            return True\n",
    "    return False\n",
    "\n",
    "def RemoveOnlyOtherSentences(x_train,y_train):\n",
    "    x_train_final = []\n",
    "    y_train_final = []\n",
    "    for idx, sentence in enumerate(y_train):\n",
    "        if(checkifAllOut(sentence)):\n",
    "            x_train_final.append(x_train[idx])\n",
    "            y_train_final.append(sentence)\n",
    "    return np.array(x_train_final),np.array(y_train_final)\n",
    "\n",
    "unique, counts = np.unique(y_train, return_counts=True)\n",
    "print(unique)\n",
    "print(counts)\n",
    "\n",
    "X_train_new, y_train_new = RemoveOnlyOtherSentences(X_train,y_train)\n",
    "\n",
    "unique, counts = np.unique(y_train_new, return_counts=True)\n",
    "print(unique)\n",
    "print(counts)\n",
    "\n",
    "print(X_train_new.shape)\n",
    "print(y_train_new.shape)\n",
    "\n",
    "model.fit(x=X_train_new, y=y_train_new,validation_split=0.2,batch_size=64,\n",
    "          epochs=3,verbose=0,\n",
    "          callbacks=[TQDMNotebookCallback(leave_inner=True)])\n",
    "y_pred = model.predict(X_test)\n",
    "y_pred = y_pred.argmax(axis=-1)\n",
    "y_pred = np.expand_dims(y_pred, axis=2)\n",
    "print(metrics.flat_classification_report(y_test, y_pred, digits=3))\n"
   ]
  },
  {
   "cell_type": "code",
   "execution_count": 13,
   "metadata": {},
   "outputs": [
    {
     "name": "stdout",
     "output_type": "stream",
     "text": [
      "_________________________________________________________________\n",
      "Layer (type)                 Output Shape              Param #   \n",
      "=================================================================\n",
      "input_2 (InputLayer)         (None, 50)                0         \n",
      "_________________________________________________________________\n",
      "embedding_2 (Embedding)      (None, 50, 64)            1287040   \n",
      "_________________________________________________________________\n",
      "bidirectional_2 (Bidirection (None, 50, 256)           197632    \n",
      "_________________________________________________________________\n",
      "dense_3 (Dense)              (None, 50, 256)           65792     \n",
      "_________________________________________________________________\n",
      "dropout_2 (Dropout)          (None, 50, 256)           0         \n",
      "_________________________________________________________________\n",
      "time_distributed_2 (TimeDist (None, 50, 64)            16448     \n",
      "_________________________________________________________________\n",
      "crf_1 (CRF)                  (None, 50, 11)            858       \n",
      "=================================================================\n",
      "Total params: 1,567,770\n",
      "Trainable params: 1,567,770\n",
      "Non-trainable params: 0\n",
      "_________________________________________________________________\n"
     ]
    }
   ],
   "source": [
    "from keras.models import Model\n",
    "from keras.layers import Dense,TimeDistributed, Input, Embedding,Bidirectional,LSTM,Dropout\n",
    "from keras_contrib.layers import CRF\n",
    "from keras_contrib import losses, metrics\n",
    "from sklearn.utils import class_weight\n",
    "import numpy as np\n",
    "\n",
    "\n",
    "def create_model(voc):\n",
    "    sequence_input = Input(shape=(50,), dtype='int32')\n",
    "    embedded_sequences = Embedding(voc,64, input_length=50)(sequence_input)\n",
    "    bilstm = Bidirectional(LSTM(128, dropout=0.2, recurrent_dropout=0.2, return_sequences=True, return_state=False))(embedded_sequences)\n",
    "    dense = Dense(256)(bilstm)\n",
    "    drop = Dropout(0.2)(dense)\n",
    "    preds = TimeDistributed(Dense(64, activation='relu'))(drop)\n",
    "    crf = CRF(11)\n",
    "    out = crf(preds)\n",
    "    model = Model(inputs=sequence_input, outputs=out)\n",
    "    model.compile(optimizer=\"rmsprop\", loss=losses.crf_loss, metrics=[metrics.crf_accuracy])\n",
    "    model.summary()\n",
    "    return model\n",
    "\n",
    "\n",
    "\n",
    "model = create_model(voc_size)"
   ]
  },
  {
   "cell_type": "code",
   "execution_count": 14,
   "metadata": {},
   "outputs": [
    {
     "name": "stdout",
     "output_type": "stream",
     "text": [
      "(16649, 50, 11)\n"
     ]
    },
    {
     "data": {
      "application/vnd.jupyter.widget-view+json": {
       "model_id": "17aa20d599a445d28f7b4c51b51fedeb",
       "version_major": 2,
       "version_minor": 0
      },
      "text/plain": [
       "HBox(children=(IntProgress(value=0, description='Training', max=3, style=ProgressStyle(description_width='init…"
      ]
     },
     "metadata": {},
     "output_type": "display_data"
    },
    {
     "data": {
      "application/vnd.jupyter.widget-view+json": {
       "model_id": "37b9ea814f2b46729f03d9883445f728",
       "version_major": 2,
       "version_minor": 0
      },
      "text/plain": [
       "HBox(children=(IntProgress(value=0, description='Epoch 0', max=13319, style=ProgressStyle(description_width='i…"
      ]
     },
     "metadata": {},
     "output_type": "display_data"
    },
    {
     "data": {
      "application/vnd.jupyter.widget-view+json": {
       "model_id": "806425f315c647bcbfb4763532813c5c",
       "version_major": 2,
       "version_minor": 0
      },
      "text/plain": [
       "HBox(children=(IntProgress(value=0, description='Epoch 1', max=13319, style=ProgressStyle(description_width='i…"
      ]
     },
     "metadata": {},
     "output_type": "display_data"
    },
    {
     "data": {
      "application/vnd.jupyter.widget-view+json": {
       "model_id": "c53adf3e9d8e48c5b379403a69cc24f5",
       "version_major": 2,
       "version_minor": 0
      },
      "text/plain": [
       "HBox(children=(IntProgress(value=0, description='Epoch 2', max=13319, style=ProgressStyle(description_width='i…"
      ]
     },
     "metadata": {},
     "output_type": "display_data"
    },
    {
     "name": "stdout",
     "output_type": "stream",
     "text": [
      "\n",
      "              precision    recall  f1-score   support\n",
      "\n",
      "           0      0.979     0.977     0.978      4770\n",
      "           1      0.535     0.806     0.643       124\n",
      "           2      0.794     0.536     0.640       151\n",
      "           3      0.200     0.500     0.286         6\n",
      "           4      0.250     1.000     0.400         9\n",
      "           5      0.000     0.000     0.000        15\n",
      "           6      0.778     0.269     0.400        26\n",
      "           7      0.674     0.564     0.614        55\n",
      "           8      0.771     0.628     0.692        86\n",
      "           9      0.400     1.000     0.571         2\n",
      "          10      0.500     1.000     0.667         6\n",
      "\n",
      "    accuracy                          0.943      5250\n",
      "   macro avg      0.535     0.662     0.536      5250\n",
      "weighted avg      0.950     0.943     0.944      5250\n",
      "\n"
     ]
    }
   ],
   "source": [
    "y_train_input = np.squeeze(y_train_new, axis=2)\n",
    "from keras.utils import to_categorical\n",
    "from sklearn_crfsuite import metrics\n",
    "# One-Hot encode\n",
    "y = [to_categorical(i, num_classes=11) for i in y_train_new]  # n_tags+1(PAD)\n",
    "y = np.array(y)\n",
    "print(y.shape)\n",
    "\n",
    "model.fit(x=X_train_new, y=y,validation_split=0.2,batch_size=64,\n",
    "          epochs=3,verbose=0,\n",
    "          callbacks=[TQDMNotebookCallback(leave_inner=True)])\n",
    "y_pred = model.predict(X_test)\n",
    "y_pred = y_pred.argmax(axis=-1)\n",
    "y_pred = np.expand_dims(y_pred, axis=2)\n",
    "print(metrics.flat_classification_report(y_test, y_pred, digits=3))"
   ]
  },
  {
   "cell_type": "code",
   "execution_count": null,
   "metadata": {},
   "outputs": [],
   "source": []
  }
 ],
 "metadata": {
  "kernelspec": {
   "display_name": "my_lab_env",
   "language": "python",
   "name": "my_lab_env"
  },
  "language_info": {
   "codemirror_mode": {
    "name": "ipython",
    "version": 3
   },
   "file_extension": ".py",
   "mimetype": "text/x-python",
   "name": "python",
   "nbconvert_exporter": "python",
   "pygments_lexer": "ipython3",
   "version": "3.6.3"
  }
 },
 "nbformat": 4,
 "nbformat_minor": 2
}
