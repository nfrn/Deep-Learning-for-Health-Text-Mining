{
  "nbformat": 4,
  "nbformat_minor": 0,
  "metadata": {
    "colab": {
      "name": "Untitled3.ipynb",
      "provenance": [],
      "private_outputs": true,
      "authorship_tag": "ABX9TyNzD8R+j6d4EjO257kONh63",
      "include_colab_link": true
    },
    "kernelspec": {
      "name": "python3",
      "display_name": "Python 3"
    }
  },
  "cells": [
    {
      "cell_type": "markdown",
      "metadata": {
        "id": "view-in-github",
        "colab_type": "text"
      },
      "source": [
        "<a href=\"https://colab.research.google.com/github/nfrn/Deep-Learning-for-Health-Text-Mining/blob/master/Untitled3.ipynb\" target=\"_parent\"><img src=\"https://colab.research.google.com/assets/colab-badge.svg\" alt=\"Open In Colab\"/></a>"
      ]
    },
    {
      "cell_type": "code",
      "metadata": {
        "id": "7icn1UmwqIxo"
      },
      "source": [
        "!wget --load-cookies /tmp/cookies.txt \"https://drive.google.com/uc?export=download&confirm=$(wget --quiet --save-cookies /tmp/cookies.txt --keep-session-cookies --no-check-certificate 'https://drive.google.com/uc?export=download&id=0B7XkCwpI5KDYNlNUTTlSS21pQmM' -O- | sed -rn 's/.*confirm=([0-9A-Za-z_]+).*/\\1\\n/p')&id=0B7XkCwpI5KDYNlNUTTlSS21pQmM\" -O GoogleNews-vectors-negative300.bin.gz && rm -rf /tmp/cookies.txt\n",
        "!gzip -d GoogleNews-vectors-negative300.bin.gz"
      ],
      "execution_count": null,
      "outputs": []
    },
    {
      "cell_type": "code",
      "metadata": {
        "id": "COkeuppZoxRv"
      },
      "source": [
        "import gensim\n",
        "\n",
        "# Load pretrained model (since intermediate data is not included, the model cannot be refined with additional data)\n",
        "model = gensim.models.KeyedVectors.load_word2vec_format('GoogleNews-vectors-negative300.bin', binary=True)"
      ],
      "execution_count": null,
      "outputs": []
    },
    {
      "cell_type": "code",
      "metadata": {
        "id": "x3yk9Rsaq6tG"
      },
      "source": [
        "s1 = 'Enhanced customer relationships'\n",
        "s2 = \"Improved customer retention\"\n",
        "s3 = \"Sales increase\"\n",
        "\n",
        "\n",
        "A1 = 'Competition'\n",
        "A2 = 'Customer'\n",
        "A3 = 'Innovation'\n",
        "A4 = 'Data'\n",
        "A5 = 'Value'\n",
        "\n",
        "#calculate distance between two sentences using WMD algorithm\n",
        "for tipo in [A1,A2,A3,A4,A5]:\n",
        "  print(tipo)\n",
        "  distance = model.wmdistance(s3, tipo)\n",
        "  print ('distance = %.3f' % distance)"
      ],
      "execution_count": null,
      "outputs": []
    }
  ]
}